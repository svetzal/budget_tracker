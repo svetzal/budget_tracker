{
 "cells": [
  {
   "cell_type": "code",
   "execution_count": 1,
   "metadata": {
    "collapsed": true,
    "ExecuteTime": {
     "end_time": "2023-07-19T23:37:04.472423Z",
     "start_time": "2023-07-19T23:37:04.043589Z"
    }
   },
   "outputs": [],
   "source": [
    "import pandas as pd\n",
    "# import numpy as np\n",
    "# import matplotlib.pyplot as plt\n",
    "%matplotlib inline\n",
    "\n",
    "from entities import CoachingPracticeFinance\n",
    "from presentation import DataFrameRenderer\n",
    "\n",
    "practice = CoachingPracticeFinance.load()"
   ]
  },
  {
   "cell_type": "code",
   "execution_count": 2,
   "outputs": [
    {
     "name": "stdout",
     "output_type": "stream",
     "text": [
      "\n",
      "Consultancies\n",
      "\n",
      "\u001B[1m\u001B[4mCode\u001B[0m    \u001B[1m\u001B[4mName\u001B[0m                           \u001B[1m\u001B[4mContract\u001B[0m     \u001B[1m\u001B[4mContact Name\u001B[0m    \u001B[1m\u001B[4mContact Phone\u001B[0m    \u001B[1m\u001B[4mContact Email\u001B[0m\n",
      "ilc     Industrial Logic Canada        CTR018457    Ardita Karaj    416-123-4567     ardita@industriallogic.ca\n",
      "qdi     Quality Driven Inc.            Stand-Alone  Paul Carvalho   416-123-4567     paul@quality-driven.com\n",
      "ra      Rosetta Technology Group, LLC  CTR019969    Jardena London  999-555-1212     jardena@rosettaagile.com\n",
      "xodiac  Xodiac (2018) Inc.             CTR020388    Gino Marckx     416-123-4567     gino.marckx@xodiac.ca\n"
     ]
    }
   ],
   "source": [
    "aggregated = [\n",
    "    [c.code, c.name, c.contract, c.contact_name, c.contact_phone, c.contact_email] for c in practice.consultancies\n",
    "]\n",
    "df = pd.DataFrame(aggregated, columns=[\"Code\", \"Name\", \"Contract\", \"Contact Name\", \"Contact Phone\", \"Contact Email\"])\n",
    "output = DataFrameRenderer(title=\"Consultancies\", data=df, sort_by=[\"Name\"])\n",
    "print(output)"
   ],
   "metadata": {
    "collapsed": false,
    "ExecuteTime": {
     "end_time": "2023-07-19T23:37:04.477169Z",
     "start_time": "2023-07-19T23:37:04.475155Z"
    }
   }
  },
  {
   "cell_type": "code",
   "execution_count": 3,
   "outputs": [
    {
     "name": "stdout",
     "output_type": "stream",
     "text": [
      "\n",
      "Area Assignments\n",
      "\n",
      "\u001B[1m\u001B[4mArea\u001B[0m                \u001B[1m\u001B[4mContractor\u001B[0m      \u001B[1m\u001B[4mFunding Source\u001B[0m  \u001B[1m\u001B[4mStart Date\u001B[0m    \u001B[1m\u001B[4mEnd Date\u001B[0m\n",
      "Commercial Banking  John Borys                5332  2023-05-01    2023-10-31\n"
     ]
    }
   ],
   "source": [
    "areas = []\n",
    "for o in practice.contractors:\n",
    "    for a in practice.support_areas:\n",
    "        for s in practice.area_assignments:\n",
    "            if o.code == s.contractor_code and s.support_area_code == a.code:\n",
    "                areas.append([a.name, o.name, s.funding_source_transit, s.start_date, s.end_date])\n",
    "df = pd.DataFrame(areas, columns=[\"Area\", \"Contractor\", \"Funding Source\", \"Start Date\", \"End Date\"])\n",
    "output = DataFrameRenderer(title=\"Area Assignments\", data=df, sort_by=[\"Area\", \"Contractor\"])\n",
    "print(output)"
   ],
   "metadata": {
    "collapsed": false,
    "ExecuteTime": {
     "end_time": "2023-07-19T23:37:04.481437Z",
     "start_time": "2023-07-19T23:37:04.479621Z"
    }
   }
  },
  {
   "cell_type": "code",
   "execution_count": 4,
   "outputs": [
    {
     "name": "stdout",
     "output_type": "stream",
     "text": [
      "\n",
      "Invoices\n",
      "\n",
      "  \u001B[1m\u001B[4mInvoice Number\u001B[0m  \u001B[1m\u001B[4mIssue Date\u001B[0m    \u001B[1m\u001B[4mTotal\u001B[0m       \u001B[1m\u001B[4mConsultancy\u001B[0m              \u001B[1m\u001B[4mPaid\u001B[0m\n",
      "           12345  2023-06-27    $45,987.00  Industrial Logic Canada  True\n"
     ]
    }
   ],
   "source": [
    "invoices = []\n",
    "for o in practice.consultancies:\n",
    "    for i in o.invoices:\n",
    "        invoices.append([i.number, i.issue_date.isoformat(), i.total(), o.name, i.paid])\n",
    "df = pd.DataFrame(invoices, columns=[\"Invoice Number\", \"Issue Date\", \"Total\", \"Consultancy\", \"Paid\"])\n",
    "output = DataFrameRenderer(title=\"Invoices\", data=df, sort_by=[\"Issue Date\", \"Invoice Number\"])\n",
    "print(output)"
   ],
   "metadata": {
    "collapsed": false,
    "ExecuteTime": {
     "end_time": "2023-07-19T23:37:04.484936Z",
     "start_time": "2023-07-19T23:37:04.483249Z"
    }
   }
  },
  {
   "cell_type": "code",
   "execution_count": 5,
   "outputs": [
    {
     "name": "stdout",
     "output_type": "stream",
     "text": [
      "\n",
      "People\n",
      "\n",
      "\u001B[1m\u001B[4mCode\u001B[0m       \u001B[1m\u001B[4mName\u001B[0m                \u001B[1m\u001B[4mCompany\u001B[0m\n",
      "267298933  Adeel Ali           Industrial Logic Canada\n",
      "267554517  Ali Jafri           RBC\n",
      "ajafri     Ali Jafri           Rosetta Technology Group, LLC\n",
      "819021528  Carlos Puche        RBC\n",
      "cliriano   Cristina Liriano    Rosetta Technology Group, LLC\n",
      "271195968  Ellen Grove         Industrial Logic Canada\n",
      "339011652  Gino Marckx         Xodiac (2018) Inc.\n",
      "308959444  Gord Mak            RBC\n",
      "332052554  Jardena London      Rosetta Technology Group, LLC\n",
      "271055642  Jason Sallis        RBC\n",
      "267298982  John Borys          Industrial Logic Canada\n",
      "325710770  Kartik Nagarajan    RBC\n",
      "267958346  Lia Baciu           RBC\n",
      "267298834  Matt Barcomb        Industrial Logic Canada\n",
      "265846691  Mike Bowler         Industrial Logic Canada\n",
      "264823469  Paul Carvalho       Quality Driven Inc.\n",
      "347793614  Peter Wong          RBC\n",
      "267747404  Ram Bathija         Rosetta Technology Group, LLC\n",
      "348438151  Robert French       RBC\n",
      "338191463  Robert MacGregor    Industrial Logic Canada\n",
      "268345345  Sandra Riberdy      RBC\n",
      "265072959  Shawn Button        Industrial Logic Canada\n",
      "343958740  Simon Pickles       RBC\n",
      "264101874  Tristan Lescut      Industrial Logic Canada\n",
      "326239662  Wayne Hetherington  Xodiac (2018) Inc.\n"
     ]
    }
   ],
   "source": [
    "people = []\n",
    "for o in practice.consultancies:\n",
    "    for p in practice.contractors:\n",
    "        if o.code == p.consultancy_code:\n",
    "            people.append([p.code, p.name, o.name])\n",
    "for p in practice.employees:\n",
    "    people.append([p.code, p.name, \"RBC\"])\n",
    "df = pd.DataFrame(people, columns=[\"Code\", \"Name\", \"Company\"])\n",
    "output = DataFrameRenderer(title=\"People\", data=df, sort_by=[\"Name\"])\n",
    "print(output)"
   ],
   "metadata": {
    "collapsed": false,
    "ExecuteTime": {
     "end_time": "2023-07-19T23:37:04.489468Z",
     "start_time": "2023-07-19T23:37:04.487725Z"
    }
   }
  },
  {
   "cell_type": "code",
   "execution_count": 6,
   "outputs": [
    {
     "name": "stdout",
     "output_type": "stream",
     "text": [
      "\n",
      "Contractors\n",
      "\n",
      "\u001B[1m\u001B[4mCode\u001B[0m       \u001B[1m\u001B[4mName\u001B[0m                \u001B[1m\u001B[4mConsultancy\u001B[0m                    \u001B[1m\u001B[4mAgreement\u001B[0m    \u001B[1m\u001B[4mRate\u001B[0m     \u001B[1m\u001B[4mHours\u001B[0m    \u001B[1m\u001B[4mStart\u001B[0m       \u001B[1m\u001B[4mEnd\u001B[0m\n",
      "267298933  Adeel Ali           Industrial Logic Canada        ILC-2021-02  $275.00  100      2023-05-01  2023-10-31\n",
      "ajafri     Ali Jafri           Rosetta Technology Group, LLC\n",
      "cliriano   Cristina Liriano    Rosetta Technology Group, LLC\n",
      "271195968  Ellen Grove         Industrial Logic Canada\n",
      "339011652  Gino Marckx         Xodiac (2018) Inc.\n",
      "332052554  Jardena London      Rosetta Technology Group, LLC\n",
      "267298982  John Borys          Industrial Logic Canada        ILC-2021-01  $275.00  100      2023-05-01  2023-10-31\n",
      "267298834  Matt Barcomb        Industrial Logic Canada\n",
      "265846691  Mike Bowler         Industrial Logic Canada        ILC-2021-02  $275.00  100      2023-04-01  2023-09-16\n",
      "264823469  Paul Carvalho       Quality Driven Inc.\n",
      "267747404  Ram Bathija         Rosetta Technology Group, LLC\n",
      "338191463  Robert MacGregor    Industrial Logic Canada\n",
      "265072959  Shawn Button        Industrial Logic Canada\n",
      "264101874  Tristan Lescut      Industrial Logic Canada\n",
      "326239662  Wayne Hetherington  Xodiac (2018) Inc.\n"
     ]
    }
   ],
   "source": [
    "from datetime import date\n",
    "\n",
    "contractors = []\n",
    "for consultancy in practice.consultancies:\n",
    "    for o in practice.contractors:\n",
    "        if o.consultancy_code == consultancy.code:\n",
    "            ta_found = False\n",
    "            for ta in practice.transaction_agreements:\n",
    "                if ta.contractor_code == o.code:\n",
    "                    if ta.start_date <= date.today() <= ta.end_date:\n",
    "                        ta_found = True\n",
    "                        contractors.append(\n",
    "                            [o.code, o.name, consultancy.name, ta.number, ta.rate, ta.hours, ta.start_date, ta.end_date])\n",
    "            if not ta_found:\n",
    "                contractors.append([o.code, o.name, consultancy.name, None, None, \"\", None, None])\n",
    "df = pd.DataFrame(contractors, columns=[\"Code\", \"Name\", \"Consultancy\", \"Agreement\", \"Rate\", \"Hours\", \"Start\", \"End\"])\n",
    "output = DataFrameRenderer(title=\"Contractors\", data=df, sort_by=[\"Name\"])\n",
    "print(output)"
   ],
   "metadata": {
    "collapsed": false,
    "ExecuteTime": {
     "end_time": "2023-07-19T23:37:04.520675Z",
     "start_time": "2023-07-19T23:37:04.492382Z"
    }
   }
  },
  {
   "cell_type": "code",
   "execution_count": 7,
   "outputs": [
    {
     "name": "stdout",
     "output_type": "stream",
     "text": [
      "\n",
      "Consultancies\n",
      "\n",
      "\u001B[1m\u001B[4mCode\u001B[0m    \u001B[1m\u001B[4mName\u001B[0m                             \u001B[1m\u001B[4mContractors\u001B[0m\n",
      "ilc     Industrial Logic Canada                    8\n",
      "qdi     Quality Driven Inc.                        1\n",
      "ra      Rosetta Technology Group, LLC              4\n",
      "xodiac  Xodiac (2018) Inc.                         2\n"
     ]
    }
   ],
   "source": [
    "consultancies = []\n",
    "for o in practice.consultancies:\n",
    "    for c in practice.contractors:\n",
    "        if o.code == c.consultancy_code:\n",
    "            consultancies.append([o.code, o.name, c.code])\n",
    "df = pd.DataFrame(consultancies, columns=[\"Code\", \"Name\", \"Contractors\"])\n",
    "aggregated = df.groupby([\"Code\", \"Name\"], as_index=False).count()\n",
    "output = DataFrameRenderer(title=\"Consultancies\", data=aggregated, sort_by=[\"Name\"])\n",
    "print(output)"
   ],
   "metadata": {
    "collapsed": false,
    "ExecuteTime": {
     "end_time": "2023-07-19T23:37:04.527182Z",
     "start_time": "2023-07-19T23:37:04.497087Z"
    }
   }
  },
  {
   "cell_type": "code",
   "execution_count": 8,
   "outputs": [
    {
     "ename": "AttributeError",
     "evalue": "'Money' object has no attribute '__root__'",
     "output_type": "error",
     "traceback": [
      "\u001B[0;31m---------------------------------------------------------------------------\u001B[0m",
      "\u001B[0;31mAttributeError\u001B[0m                            Traceback (most recent call last)",
      "Cell \u001B[0;32mIn[8], line 5\u001B[0m\n\u001B[1;32m      3\u001B[0m     funding_range \u001B[38;5;241m=\u001B[39m pd\u001B[38;5;241m.\u001B[39mbdate_range(ta\u001B[38;5;241m.\u001B[39mstart_date, ta\u001B[38;5;241m.\u001B[39mend_date, freq\u001B[38;5;241m=\u001B[39m\u001B[38;5;124m\"\u001B[39m\u001B[38;5;124mC\u001B[39m\u001B[38;5;124m\"\u001B[39m, holidays\u001B[38;5;241m=\u001B[39mpractice\u001B[38;5;241m.\u001B[39mstatutory_holiday_list)\n\u001B[1;32m      4\u001B[0m     \u001B[38;5;28;01mfor\u001B[39;00m d \u001B[38;5;129;01min\u001B[39;00m funding_range:\n\u001B[0;32m----> 5\u001B[0m         target_budget\u001B[38;5;241m.\u001B[39mappend([fs\u001B[38;5;241m.\u001B[39mtransit, fs\u001B[38;5;241m.\u001B[39mname, d, \u001B[43mfs\u001B[49m\u001B[38;5;241;43m.\u001B[39;49m\u001B[43mtotal\u001B[49m\u001B[38;5;241;43m.\u001B[39;49m\u001B[43m__root__\u001B[49m\u001B[38;5;241m/\u001B[39m\u001B[38;5;28mlen\u001B[39m(funding_range)])\n\u001B[1;32m      6\u001B[0m df \u001B[38;5;241m=\u001B[39m pd\u001B[38;5;241m.\u001B[39mDataFrame(target_budget, columns\u001B[38;5;241m=\u001B[39m[\u001B[38;5;124m\"\u001B[39m\u001B[38;5;124mTransit\u001B[39m\u001B[38;5;124m\"\u001B[39m, \u001B[38;5;124m\"\u001B[39m\u001B[38;5;124mFunding Source\u001B[39m\u001B[38;5;124m\"\u001B[39m, \u001B[38;5;124m\"\u001B[39m\u001B[38;5;124mDate\u001B[39m\u001B[38;5;124m\"\u001B[39m, \u001B[38;5;124m\"\u001B[39m\u001B[38;5;124mTarget Budget\u001B[39m\u001B[38;5;124m\"\u001B[39m])\n\u001B[1;32m      7\u001B[0m df[\u001B[38;5;124m\"\u001B[39m\u001B[38;5;124mMonth\u001B[39m\u001B[38;5;124m\"\u001B[39m] \u001B[38;5;241m=\u001B[39m df\u001B[38;5;241m.\u001B[39mDate\u001B[38;5;241m.\u001B[39mdt\u001B[38;5;241m.\u001B[39mmonth\n",
      "File \u001B[0;32m~/Work/Personal/budget-tracker/.venv/lib/python3.11/site-packages/pydantic/main.py:710\u001B[0m, in \u001B[0;36mBaseModel.__getattr__\u001B[0;34m(self, item)\u001B[0m\n\u001B[1;32m    707\u001B[0m     \u001B[38;5;28;01mreturn\u001B[39;00m \u001B[38;5;28msuper\u001B[39m()\u001B[38;5;241m.\u001B[39m\u001B[38;5;21m__getattribute__\u001B[39m(item)  \u001B[38;5;66;03m# Raises AttributeError if appropriate\u001B[39;00m\n\u001B[1;32m    708\u001B[0m \u001B[38;5;28;01melse\u001B[39;00m:\n\u001B[1;32m    709\u001B[0m     \u001B[38;5;66;03m# this is the current error\u001B[39;00m\n\u001B[0;32m--> 710\u001B[0m     \u001B[38;5;28;01mraise\u001B[39;00m \u001B[38;5;167;01mAttributeError\u001B[39;00m(\u001B[38;5;124mf\u001B[39m\u001B[38;5;124m'\u001B[39m\u001B[38;5;132;01m{\u001B[39;00m\u001B[38;5;28mtype\u001B[39m(\u001B[38;5;28mself\u001B[39m)\u001B[38;5;241m.\u001B[39m\u001B[38;5;18m__name__\u001B[39m\u001B[38;5;132;01m!r}\u001B[39;00m\u001B[38;5;124m object has no attribute \u001B[39m\u001B[38;5;132;01m{\u001B[39;00mitem\u001B[38;5;132;01m!r}\u001B[39;00m\u001B[38;5;124m'\u001B[39m)\n",
      "\u001B[0;31mAttributeError\u001B[0m: 'Money' object has no attribute '__root__'"
     ]
    }
   ],
   "source": [
    "target_budget = []\n",
    "for fs in practice.funding_sources:\n",
    "    funding_range = pd.bdate_range(ta.start_date, ta.end_date, freq=\"C\", holidays=practice.statutory_holiday_list)\n",
    "    for d in funding_range:\n",
    "        target_budget.append([fs.transit, fs.name, d, fs.total.__root__/len(funding_range)])\n",
    "df = pd.DataFrame(target_budget, columns=[\"Transit\", \"Funding Source\", \"Date\", \"Target Budget\"])\n",
    "df[\"Month\"] = df.Date.dt.month\n",
    "df[\"Amount\"] = df[\"Target Budget\"].astype(float)\n",
    "monthly_target_budget = df[[\"Month\",\"Amount\"]].groupby(\"Month\", sort=False).sum()\n",
    "monthly_target_budget\n"
   ],
   "metadata": {
    "collapsed": false,
    "ExecuteTime": {
     "end_time": "2023-07-19T23:37:04.649978Z",
     "start_time": "2023-07-19T23:37:04.502384Z"
    }
   }
  },
  {
   "cell_type": "code",
   "execution_count": null,
   "outputs": [],
   "source": [],
   "metadata": {
    "collapsed": false
   }
  }
 ],
 "metadata": {
  "kernelspec": {
   "display_name": "Python 3",
   "language": "python",
   "name": "python3"
  },
  "language_info": {
   "codemirror_mode": {
    "name": "ipython",
    "version": 2
   },
   "file_extension": ".py",
   "mimetype": "text/x-python",
   "name": "python",
   "nbconvert_exporter": "python",
   "pygments_lexer": "ipython2",
   "version": "2.7.6"
  }
 },
 "nbformat": 4,
 "nbformat_minor": 0
}
