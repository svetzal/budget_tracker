{
 "cells": [
  {
   "cell_type": "code",
   "execution_count": 21,
   "id": "439d8fa5",
   "metadata": {
    "ExecuteTime": {
     "end_time": "2023-07-07T00:32:38.496822Z",
     "start_time": "2023-07-07T00:32:38.489722Z"
    }
   },
   "outputs": [],
   "source": [
    "import pandas as pd\n",
    "from entities import Contractor, Consultancy, TransactionAgreement, CoachingPracticeFinance\n",
    "\n",
    "finance = CoachingPracticeFinance.load()"
   ]
  },
  {
   "cell_type": "markdown",
   "id": "5fef4f0a",
   "metadata": {},
   "source": [
    "# Create the first dataframe with consultancies data"
   ]
  },
  {
   "cell_type": "code",
   "execution_count": 22,
   "id": "598c6989",
   "metadata": {
    "ExecuteTime": {
     "end_time": "2023-07-07T00:32:38.497931Z",
     "start_time": "2023-07-07T00:32:38.495914Z"
    }
   },
   "outputs": [
    {
     "data": {
      "text/plain": "  consultancy_code               consultancy_name     contract  \\\n0              ilc        Industrial Logic Canada    CTR018457   \n1           xodiac             Xodiac (2018) Inc.    CTR020388   \n2               ra  Rosetta Technology Group, LLC    CTR019969   \n3              qdi            Quality Driven Inc.  Stand-Alone   \n\n     contact_name contact_phone              contact_email  \n0    Ardita Karaj  416-123-4567  ardita@industriallogic.ca  \n1     Gino Marckx  416-123-4567      gino.marckx@xodiac.ca  \n2  Jardena London  999-555-1212   jardena@rosettaagile.com  \n3   Paul Carvalho  416-123-4567    paul@quality-driven.com  ",
      "text/html": "<div>\n<style scoped>\n    .dataframe tbody tr th:only-of-type {\n        vertical-align: middle;\n    }\n\n    .dataframe tbody tr th {\n        vertical-align: top;\n    }\n\n    .dataframe thead th {\n        text-align: right;\n    }\n</style>\n<table border=\"1\" class=\"dataframe\">\n  <thead>\n    <tr style=\"text-align: right;\">\n      <th></th>\n      <th>consultancy_code</th>\n      <th>consultancy_name</th>\n      <th>contract</th>\n      <th>contact_name</th>\n      <th>contact_phone</th>\n      <th>contact_email</th>\n    </tr>\n  </thead>\n  <tbody>\n    <tr>\n      <th>0</th>\n      <td>ilc</td>\n      <td>Industrial Logic Canada</td>\n      <td>CTR018457</td>\n      <td>Ardita Karaj</td>\n      <td>416-123-4567</td>\n      <td>ardita@industriallogic.ca</td>\n    </tr>\n    <tr>\n      <th>1</th>\n      <td>xodiac</td>\n      <td>Xodiac (2018) Inc.</td>\n      <td>CTR020388</td>\n      <td>Gino Marckx</td>\n      <td>416-123-4567</td>\n      <td>gino.marckx@xodiac.ca</td>\n    </tr>\n    <tr>\n      <th>2</th>\n      <td>ra</td>\n      <td>Rosetta Technology Group, LLC</td>\n      <td>CTR019969</td>\n      <td>Jardena London</td>\n      <td>999-555-1212</td>\n      <td>jardena@rosettaagile.com</td>\n    </tr>\n    <tr>\n      <th>3</th>\n      <td>qdi</td>\n      <td>Quality Driven Inc.</td>\n      <td>Stand-Alone</td>\n      <td>Paul Carvalho</td>\n      <td>416-123-4567</td>\n      <td>paul@quality-driven.com</td>\n    </tr>\n  </tbody>\n</table>\n</div>"
     },
     "execution_count": 22,
     "metadata": {},
     "output_type": "execute_result"
    }
   ],
   "source": [
    "df1 = pd.DataFrame([c.__dict__ for c in finance.consultancies], columns=Consultancy.__fields__.keys())\n",
    "df1 = df1.rename(columns={\"code\": \"consultancy_code\", \"name\": \"consultancy_name\"})\n",
    "df1 = df1.drop([\"invoices\"], axis=1)\n",
    "df1"
   ]
  },
  {
   "cell_type": "markdown",
   "id": "fb464f40",
   "metadata": {},
   "source": [
    "# Create the second dataframe with contractor data"
   ]
  },
  {
   "cell_type": "code",
   "execution_count": 27,
   "id": "7e0341f2",
   "metadata": {
    "ExecuteTime": {
     "end_time": "2023-07-07T00:33:09.904155Z",
     "start_time": "2023-07-07T00:33:09.901599Z"
    }
   },
   "outputs": [
    {
     "data": {
      "text/plain": "   contractor_code     contractor_name                       email  \\\n0        267298982          John Borys          john.borys@rbc.com   \n1        338191463    Robert MacGregor    robert.macgregor@rbc.com   \n2        265846691         Mike Bowler         mike.bowler@rbc.com   \n3        267298933           Adeel Ali           adeel.ali@rbc.com   \n4        267298834        Matt Barcomb        matt.barcomb@rbc.com   \n5        271195968         Ellen Grove         ellen.grove@rbc.com   \n6        265072959        Shawn Button        shawn.button@rbc.com   \n7        264101874      Tristan Lescut      tristan.lescut@rbc.com   \n8        339011652         Gino Marckx         gino.marckx@rbc.com   \n9        326239662  Wayne Hetherington  wayne.hetherington@rbc.com   \n10          ajafri           Ali Jafri           ali.jafri@rbc.com   \n11       267747404         Ram Bathija         ram.bathija@rbc.com   \n12        cliriano    Cristina Liriano    cristina.liriano@rbc.com   \n13       332052554      Jardena London      jardena.london@rbc.com   \n14       264823469       Paul Carvalho       paul.carvalho@rbc.com   \n\n    start_date  phone_number    end_date consultancy_code  \n0   2022-06-06  416-123-4567        None              ilc  \n1   2021-07-05  416-123-4567  2023-06-29              ilc  \n2   2022-03-09  416-123-4567        None              ilc  \n3   2022-06-06  416-123-4567        None              ilc  \n4   2022-06-09  416-123-4567  2023-05-11              ilc  \n5   2023-01-03  416-123-4567        None              ilc  \n6   2022-02-01  416-123-4567        None              ilc  \n7   2021-11-29  416-123-4567  2023-06-16              ilc  \n8   2018-05-01  416-123-4567        None           xodiac  \n9   2022-05-01  416-123-4567        None           xodiac  \n10  2022-05-17  416-123-4567  2023-05-17               ra  \n11  2022-05-20  416-123-4567        None               ra  \n12  2022-11-17  416-123-4567  2023-02-17               ra  \n13  2022-05-20  416-123-4567        None               ra  \n14  2022-01-17  416-123-4567  2023-07-17              qdi  ",
      "text/html": "<div>\n<style scoped>\n    .dataframe tbody tr th:only-of-type {\n        vertical-align: middle;\n    }\n\n    .dataframe tbody tr th {\n        vertical-align: top;\n    }\n\n    .dataframe thead th {\n        text-align: right;\n    }\n</style>\n<table border=\"1\" class=\"dataframe\">\n  <thead>\n    <tr style=\"text-align: right;\">\n      <th></th>\n      <th>contractor_code</th>\n      <th>contractor_name</th>\n      <th>email</th>\n      <th>start_date</th>\n      <th>phone_number</th>\n      <th>end_date</th>\n      <th>consultancy_code</th>\n    </tr>\n  </thead>\n  <tbody>\n    <tr>\n      <th>0</th>\n      <td>267298982</td>\n      <td>John Borys</td>\n      <td>john.borys@rbc.com</td>\n      <td>2022-06-06</td>\n      <td>416-123-4567</td>\n      <td>None</td>\n      <td>ilc</td>\n    </tr>\n    <tr>\n      <th>1</th>\n      <td>338191463</td>\n      <td>Robert MacGregor</td>\n      <td>robert.macgregor@rbc.com</td>\n      <td>2021-07-05</td>\n      <td>416-123-4567</td>\n      <td>2023-06-29</td>\n      <td>ilc</td>\n    </tr>\n    <tr>\n      <th>2</th>\n      <td>265846691</td>\n      <td>Mike Bowler</td>\n      <td>mike.bowler@rbc.com</td>\n      <td>2022-03-09</td>\n      <td>416-123-4567</td>\n      <td>None</td>\n      <td>ilc</td>\n    </tr>\n    <tr>\n      <th>3</th>\n      <td>267298933</td>\n      <td>Adeel Ali</td>\n      <td>adeel.ali@rbc.com</td>\n      <td>2022-06-06</td>\n      <td>416-123-4567</td>\n      <td>None</td>\n      <td>ilc</td>\n    </tr>\n    <tr>\n      <th>4</th>\n      <td>267298834</td>\n      <td>Matt Barcomb</td>\n      <td>matt.barcomb@rbc.com</td>\n      <td>2022-06-09</td>\n      <td>416-123-4567</td>\n      <td>2023-05-11</td>\n      <td>ilc</td>\n    </tr>\n    <tr>\n      <th>5</th>\n      <td>271195968</td>\n      <td>Ellen Grove</td>\n      <td>ellen.grove@rbc.com</td>\n      <td>2023-01-03</td>\n      <td>416-123-4567</td>\n      <td>None</td>\n      <td>ilc</td>\n    </tr>\n    <tr>\n      <th>6</th>\n      <td>265072959</td>\n      <td>Shawn Button</td>\n      <td>shawn.button@rbc.com</td>\n      <td>2022-02-01</td>\n      <td>416-123-4567</td>\n      <td>None</td>\n      <td>ilc</td>\n    </tr>\n    <tr>\n      <th>7</th>\n      <td>264101874</td>\n      <td>Tristan Lescut</td>\n      <td>tristan.lescut@rbc.com</td>\n      <td>2021-11-29</td>\n      <td>416-123-4567</td>\n      <td>2023-06-16</td>\n      <td>ilc</td>\n    </tr>\n    <tr>\n      <th>8</th>\n      <td>339011652</td>\n      <td>Gino Marckx</td>\n      <td>gino.marckx@rbc.com</td>\n      <td>2018-05-01</td>\n      <td>416-123-4567</td>\n      <td>None</td>\n      <td>xodiac</td>\n    </tr>\n    <tr>\n      <th>9</th>\n      <td>326239662</td>\n      <td>Wayne Hetherington</td>\n      <td>wayne.hetherington@rbc.com</td>\n      <td>2022-05-01</td>\n      <td>416-123-4567</td>\n      <td>None</td>\n      <td>xodiac</td>\n    </tr>\n    <tr>\n      <th>10</th>\n      <td>ajafri</td>\n      <td>Ali Jafri</td>\n      <td>ali.jafri@rbc.com</td>\n      <td>2022-05-17</td>\n      <td>416-123-4567</td>\n      <td>2023-05-17</td>\n      <td>ra</td>\n    </tr>\n    <tr>\n      <th>11</th>\n      <td>267747404</td>\n      <td>Ram Bathija</td>\n      <td>ram.bathija@rbc.com</td>\n      <td>2022-05-20</td>\n      <td>416-123-4567</td>\n      <td>None</td>\n      <td>ra</td>\n    </tr>\n    <tr>\n      <th>12</th>\n      <td>cliriano</td>\n      <td>Cristina Liriano</td>\n      <td>cristina.liriano@rbc.com</td>\n      <td>2022-11-17</td>\n      <td>416-123-4567</td>\n      <td>2023-02-17</td>\n      <td>ra</td>\n    </tr>\n    <tr>\n      <th>13</th>\n      <td>332052554</td>\n      <td>Jardena London</td>\n      <td>jardena.london@rbc.com</td>\n      <td>2022-05-20</td>\n      <td>416-123-4567</td>\n      <td>None</td>\n      <td>ra</td>\n    </tr>\n    <tr>\n      <th>14</th>\n      <td>264823469</td>\n      <td>Paul Carvalho</td>\n      <td>paul.carvalho@rbc.com</td>\n      <td>2022-01-17</td>\n      <td>416-123-4567</td>\n      <td>2023-07-17</td>\n      <td>qdi</td>\n    </tr>\n  </tbody>\n</table>\n</div>"
     },
     "execution_count": 27,
     "metadata": {},
     "output_type": "execute_result"
    }
   ],
   "source": [
    "df2 = pd.DataFrame([c.__dict__ for c in finance.contractors], columns=Contractor.__fields__.keys())\n",
    "df2 = df2.rename(columns={\"code\": \"contractor_code\", \"name\": \"contractor_name\"})\n",
    "df2"
   ]
  },
  {
   "cell_type": "markdown",
   "id": "8540fd45",
   "metadata": {},
   "source": [
    "# Join the two dataframes on the consultancy_code column"
   ]
  },
  {
   "cell_type": "code",
   "execution_count": 30,
   "outputs": [
    {
     "data": {
      "text/plain": "        number contractor_code  hours     rate ta_start_date ta_end_date\n0  ILC-2021-01       338191463    100  $225.00    2023-05-01  2023-06-29\n1  ILC-2021-01       267298982    100  $275.00    2023-05-01  2023-10-31\n2  ILC-2021-02       267298933    100  $275.00    2023-05-01  2023-10-31\n3  ILC-2021-02       265846691    100  $275.00    2023-04-01  2023-09-16",
      "text/html": "<div>\n<style scoped>\n    .dataframe tbody tr th:only-of-type {\n        vertical-align: middle;\n    }\n\n    .dataframe tbody tr th {\n        vertical-align: top;\n    }\n\n    .dataframe thead th {\n        text-align: right;\n    }\n</style>\n<table border=\"1\" class=\"dataframe\">\n  <thead>\n    <tr style=\"text-align: right;\">\n      <th></th>\n      <th>number</th>\n      <th>contractor_code</th>\n      <th>hours</th>\n      <th>rate</th>\n      <th>ta_start_date</th>\n      <th>ta_end_date</th>\n    </tr>\n  </thead>\n  <tbody>\n    <tr>\n      <th>0</th>\n      <td>ILC-2021-01</td>\n      <td>338191463</td>\n      <td>100</td>\n      <td>$225.00</td>\n      <td>2023-05-01</td>\n      <td>2023-06-29</td>\n    </tr>\n    <tr>\n      <th>1</th>\n      <td>ILC-2021-01</td>\n      <td>267298982</td>\n      <td>100</td>\n      <td>$275.00</td>\n      <td>2023-05-01</td>\n      <td>2023-10-31</td>\n    </tr>\n    <tr>\n      <th>2</th>\n      <td>ILC-2021-02</td>\n      <td>267298933</td>\n      <td>100</td>\n      <td>$275.00</td>\n      <td>2023-05-01</td>\n      <td>2023-10-31</td>\n    </tr>\n    <tr>\n      <th>3</th>\n      <td>ILC-2021-02</td>\n      <td>265846691</td>\n      <td>100</td>\n      <td>$275.00</td>\n      <td>2023-04-01</td>\n      <td>2023-09-16</td>\n    </tr>\n  </tbody>\n</table>\n</div>"
     },
     "execution_count": 30,
     "metadata": {},
     "output_type": "execute_result"
    }
   ],
   "source": [
    "# Next, we should join the transaction agreement data to the dataframe\n",
    "df3 = pd.DataFrame([ta.__dict__ for ta in finance.transaction_agreements], columns=TransactionAgreement.__fields__.keys())\n",
    "df3 = df3.rename(columns={\"start_date\": \"ta_start_date\", \"end_date\": \"ta_end_date\"})\n",
    "df3"
   ],
   "metadata": {
    "collapsed": false,
    "ExecuteTime": {
     "end_time": "2023-07-07T00:34:05.978908Z",
     "start_time": "2023-07-07T00:34:05.975215Z"
    }
   }
  },
  {
   "cell_type": "code",
   "execution_count": 36,
   "outputs": [
    {
     "data": {
      "text/plain": "  consultancy_code         consultancy_name   contract  contact_name  \\\n0              ilc  Industrial Logic Canada  CTR018457  Ardita Karaj   \n1              ilc  Industrial Logic Canada  CTR018457  Ardita Karaj   \n2              ilc  Industrial Logic Canada  CTR018457  Ardita Karaj   \n3              ilc  Industrial Logic Canada  CTR018457  Ardita Karaj   \n\n  contact_phone              contact_email contractor_code   contractor_name  \\\n0  416-123-4567  ardita@industriallogic.ca       267298982        John Borys   \n1  416-123-4567  ardita@industriallogic.ca       338191463  Robert MacGregor   \n2  416-123-4567  ardita@industriallogic.ca       265846691       Mike Bowler   \n3  416-123-4567  ardita@industriallogic.ca       267298933         Adeel Ali   \n\n                      email  start_date  phone_number    end_date  \\\n0        john.borys@rbc.com  2022-06-06  416-123-4567        None   \n1  robert.macgregor@rbc.com  2021-07-05  416-123-4567  2023-06-29   \n2       mike.bowler@rbc.com  2022-03-09  416-123-4567        None   \n3         adeel.ali@rbc.com  2022-06-06  416-123-4567        None   \n\n        number  hours     rate ta_start_date ta_end_date  \n0  ILC-2021-01    100  $275.00    2023-05-01  2023-10-31  \n1  ILC-2021-01    100  $225.00    2023-05-01  2023-06-29  \n2  ILC-2021-02    100  $275.00    2023-04-01  2023-09-16  \n3  ILC-2021-02    100  $275.00    2023-05-01  2023-10-31  ",
      "text/html": "<div>\n<style scoped>\n    .dataframe tbody tr th:only-of-type {\n        vertical-align: middle;\n    }\n\n    .dataframe tbody tr th {\n        vertical-align: top;\n    }\n\n    .dataframe thead th {\n        text-align: right;\n    }\n</style>\n<table border=\"1\" class=\"dataframe\">\n  <thead>\n    <tr style=\"text-align: right;\">\n      <th></th>\n      <th>consultancy_code</th>\n      <th>consultancy_name</th>\n      <th>contract</th>\n      <th>contact_name</th>\n      <th>contact_phone</th>\n      <th>contact_email</th>\n      <th>contractor_code</th>\n      <th>contractor_name</th>\n      <th>email</th>\n      <th>start_date</th>\n      <th>phone_number</th>\n      <th>end_date</th>\n      <th>number</th>\n      <th>hours</th>\n      <th>rate</th>\n      <th>ta_start_date</th>\n      <th>ta_end_date</th>\n    </tr>\n  </thead>\n  <tbody>\n    <tr>\n      <th>0</th>\n      <td>ilc</td>\n      <td>Industrial Logic Canada</td>\n      <td>CTR018457</td>\n      <td>Ardita Karaj</td>\n      <td>416-123-4567</td>\n      <td>ardita@industriallogic.ca</td>\n      <td>267298982</td>\n      <td>John Borys</td>\n      <td>john.borys@rbc.com</td>\n      <td>2022-06-06</td>\n      <td>416-123-4567</td>\n      <td>None</td>\n      <td>ILC-2021-01</td>\n      <td>100</td>\n      <td>$275.00</td>\n      <td>2023-05-01</td>\n      <td>2023-10-31</td>\n    </tr>\n    <tr>\n      <th>1</th>\n      <td>ilc</td>\n      <td>Industrial Logic Canada</td>\n      <td>CTR018457</td>\n      <td>Ardita Karaj</td>\n      <td>416-123-4567</td>\n      <td>ardita@industriallogic.ca</td>\n      <td>338191463</td>\n      <td>Robert MacGregor</td>\n      <td>robert.macgregor@rbc.com</td>\n      <td>2021-07-05</td>\n      <td>416-123-4567</td>\n      <td>2023-06-29</td>\n      <td>ILC-2021-01</td>\n      <td>100</td>\n      <td>$225.00</td>\n      <td>2023-05-01</td>\n      <td>2023-06-29</td>\n    </tr>\n    <tr>\n      <th>2</th>\n      <td>ilc</td>\n      <td>Industrial Logic Canada</td>\n      <td>CTR018457</td>\n      <td>Ardita Karaj</td>\n      <td>416-123-4567</td>\n      <td>ardita@industriallogic.ca</td>\n      <td>265846691</td>\n      <td>Mike Bowler</td>\n      <td>mike.bowler@rbc.com</td>\n      <td>2022-03-09</td>\n      <td>416-123-4567</td>\n      <td>None</td>\n      <td>ILC-2021-02</td>\n      <td>100</td>\n      <td>$275.00</td>\n      <td>2023-04-01</td>\n      <td>2023-09-16</td>\n    </tr>\n    <tr>\n      <th>3</th>\n      <td>ilc</td>\n      <td>Industrial Logic Canada</td>\n      <td>CTR018457</td>\n      <td>Ardita Karaj</td>\n      <td>416-123-4567</td>\n      <td>ardita@industriallogic.ca</td>\n      <td>267298933</td>\n      <td>Adeel Ali</td>\n      <td>adeel.ali@rbc.com</td>\n      <td>2022-06-06</td>\n      <td>416-123-4567</td>\n      <td>None</td>\n      <td>ILC-2021-02</td>\n      <td>100</td>\n      <td>$275.00</td>\n      <td>2023-05-01</td>\n      <td>2023-10-31</td>\n    </tr>\n  </tbody>\n</table>\n</div>"
     },
     "execution_count": 36,
     "metadata": {},
     "output_type": "execute_result"
    }
   ],
   "source": [
    "temp1 = pd.merge(df1, df2, on=\"consultancy_code\")\n",
    "final = pd.merge(temp1, df3, on=\"contractor_code\")\n",
    "final"
   ],
   "metadata": {
    "collapsed": false,
    "ExecuteTime": {
     "end_time": "2023-07-07T00:35:51.182682Z",
     "start_time": "2023-07-07T00:35:51.180336Z"
    }
   }
  },
  {
   "cell_type": "code",
   "execution_count": 25,
   "outputs": [],
   "source": [],
   "metadata": {
    "collapsed": false,
    "ExecuteTime": {
     "end_time": "2023-07-07T00:32:38.590890Z",
     "start_time": "2023-07-07T00:32:38.519102Z"
    }
   }
  }
 ],
 "metadata": {
  "kernelspec": {
   "display_name": "Python 3 (ipykernel)",
   "language": "python",
   "name": "python3"
  },
  "language_info": {
   "codemirror_mode": {
    "name": "ipython",
    "version": 3
   },
   "file_extension": ".py",
   "mimetype": "text/x-python",
   "name": "python",
   "nbconvert_exporter": "python",
   "pygments_lexer": "ipython3",
   "version": "3.11.4"
  }
 },
 "nbformat": 4,
 "nbformat_minor": 5
}
