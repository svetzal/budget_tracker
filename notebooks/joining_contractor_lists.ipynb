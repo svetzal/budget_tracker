{
 "cells": [
  {
   "cell_type": "code",
   "execution_count": null,
   "id": "439d8fa5",
   "metadata": {
    "ExecuteTime": {
     "end_time": "2023-07-07T00:32:38.496822Z",
     "start_time": "2023-07-07T00:32:38.489722Z"
    }
   },
   "outputs": [],
   "source": [
    "import pandas as pd\n",
    "from entities import Contractor, Consultancy, TransactionAgreement, CoachingPracticeFinance\n",
    "\n",
    "finance = CoachingPracticeFinance.load()"
   ]
  },
  {
   "cell_type": "markdown",
   "id": "5fef4f0a",
   "metadata": {},
   "source": [
    "# Create the first dataframe with consultancies data"
   ]
  },
  {
   "cell_type": "code",
   "execution_count": null,
   "id": "598c6989",
   "metadata": {
    "ExecuteTime": {
     "end_time": "2023-07-07T00:32:38.497931Z",
     "start_time": "2023-07-07T00:32:38.495914Z"
    }
   },
   "outputs": [],
   "source": [
    "df1 = pd.DataFrame([c.__dict__ for c in finance.consultancies], columns=Consultancy.__fields__.keys())\n",
    "df1 = df1.rename(columns={\"code\": \"consultancy_code\", \"name\": \"consultancy_name\"})\n",
    "df1 = df1.drop([\"invoices\"], axis=1)\n",
    "df1"
   ]
  },
  {
   "cell_type": "markdown",
   "id": "fb464f40",
   "metadata": {},
   "source": [
    "# Create the second dataframe with contractor data"
   ]
  },
  {
   "cell_type": "code",
   "execution_count": null,
   "id": "7e0341f2",
   "metadata": {
    "ExecuteTime": {
     "end_time": "2023-07-07T00:33:09.904155Z",
     "start_time": "2023-07-07T00:33:09.901599Z"
    }
   },
   "outputs": [],
   "source": [
    "df2 = pd.DataFrame([c.__dict__ for c in finance.contractors], columns=Contractor.__fields__.keys())\n",
    "df2 = df2.rename(columns={\"code\": \"contractor_code\", \"name\": \"contractor_name\"})\n",
    "df2"
   ]
  },
  {
   "cell_type": "markdown",
   "id": "8540fd45",
   "metadata": {},
   "source": [
    "# Join the two dataframes on the consultancy_code column"
   ]
  },
  {
   "cell_type": "code",
   "execution_count": null,
   "id": "3df04ddf",
   "metadata": {
    "ExecuteTime": {
     "end_time": "2023-07-07T00:34:05.978908Z",
     "start_time": "2023-07-07T00:34:05.975215Z"
    }
   },
   "outputs": [],
   "source": [
    "# Next, we should join the transaction agreement data to the dataframe\n",
    "df3 = pd.DataFrame([ta.__dict__ for ta in finance.transaction_agreements], columns=TransactionAgreement.__fields__.keys())\n",
    "df3 = df3.rename(columns={\"start_date\": \"ta_start_date\", \"end_date\": \"ta_end_date\"})\n",
    "df3"
   ]
  },
  {
   "cell_type": "code",
   "execution_count": null,
   "id": "98806bb2",
   "metadata": {
    "ExecuteTime": {
     "end_time": "2023-07-07T00:35:51.182682Z",
     "start_time": "2023-07-07T00:35:51.180336Z"
    }
   },
   "outputs": [],
   "source": [
    "temp1 = pd.merge(df1, df2, on=\"consultancy_code\")\n",
    "final = pd.merge(temp1, df3, on=\"contractor_code\")\n",
    "final"
   ]
  },
  {
   "cell_type": "code",
   "execution_count": null,
   "id": "72d50d89",
   "metadata": {
    "ExecuteTime": {
     "end_time": "2023-07-07T00:32:38.590890Z",
     "start_time": "2023-07-07T00:32:38.519102Z"
    }
   },
   "outputs": [],
   "source": []
  }
 ],
 "metadata": {
  "kernelspec": {
   "display_name": "Python 3 (ipykernel)",
   "language": "python",
   "name": "python3"
  },
  "language_info": {
   "codemirror_mode": {
    "name": "ipython",
    "version": 3
   },
   "file_extension": ".py",
   "mimetype": "text/x-python",
   "name": "python",
   "nbconvert_exporter": "python",
   "pygments_lexer": "ipython3",
   "version": "3.11.4"
  }
 },
 "nbformat": 4,
 "nbformat_minor": 5
}
