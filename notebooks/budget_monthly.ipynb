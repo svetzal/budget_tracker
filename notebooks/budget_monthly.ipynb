{
 "cells": [
  {
   "cell_type": "code",
   "execution_count": null,
   "metadata": {
    "ExecuteTime": {
     "end_time": "2023-08-01T00:04:46.446674Z",
     "start_time": "2023-08-01T00:04:46.014894Z"
    }
   },
   "outputs": [],
   "source": [
    "import pandas as pd\n",
    "# import numpy as np\n",
    "# import matplotlib.pyplot as plt\n",
    "%matplotlib inline\n",
    "\n",
    "from entities import CoachingPracticeFinance, ExpenseLineItem, HoursLineItem\n",
    "\n",
    "practice = CoachingPracticeFinance.load(\"../practice.json\")"
   ]
  },
  {
   "cell_type": "markdown",
   "metadata": {
    "collapsed": false
   },
   "source": [
    "# Frame for the report\n",
    "\n",
    "Let's sort out the bounds for the report, and set up a frame to merge into later."
   ]
  },
  {
   "cell_type": "code",
   "execution_count": null,
   "metadata": {
    "ExecuteTime": {
     "end_time": "2023-08-01T00:04:49.665323Z",
     "start_time": "2023-08-01T00:04:49.656523Z"
    }
   },
   "outputs": [],
   "source": [
    "period_start = pd.to_datetime(\"2022-11-01\")\n",
    "period_end = pd.to_datetime(\"2023-10-31\")\n",
    "report_date_range = pd.bdate_range(period_start, period_end, freq=\"C\", holidays=practice.statutory_holiday_list)\n",
    "report_frame = pd.DataFrame(report_date_range, columns=[\"date\"])\n",
    "report_frame"
   ]
  },
  {
   "cell_type": "markdown",
   "metadata": {
    "collapsed": false
   },
   "source": [
    "# Prepare Budget Frame\n",
    "\n",
    "Gather transaction agreement data into a frame bounded by the report range, and spread it out day by day."
   ]
  },
  {
   "cell_type": "code",
   "execution_count": null,
   "metadata": {
    "ExecuteTime": {
     "end_time": "2023-08-01T00:23:24.033708Z",
     "start_time": "2023-08-01T00:23:24.022634Z"
    }
   },
   "outputs": [],
   "source": [
    "ta_array = []\n",
    "for ta in practice.transaction_agreements:\n",
    "    ta_range = pd.bdate_range(ta.start_date, ta.end_date, freq=\"C\", holidays=practice.statutory_holiday_list)\n",
    "    for date in ta_range:\n",
    "        if date in report_date_range:\n",
    "            ta_dict = ta.model_dump()\n",
    "            ta_dict[\"rate\"] = float(ta.rate.root)\n",
    "            ta_dict[\"date\"] = date\n",
    "            ta_dict[\"hours\"] = float(ta.hours/len(ta_range))\n",
    "            ta_array.append(ta_dict)\n",
    "\n",
    "ta_frame = pd.DataFrame(ta_array)\n",
    "ta_frame[\"amount\"] = ta_frame.rate * ta_frame.hours\n",
    "ta_frame"
   ]
  },
  {
   "cell_type": "code",
   "execution_count": null,
   "metadata": {
    "ExecuteTime": {
     "end_time": "2023-08-01T00:23:34.620779Z",
     "start_time": "2023-08-01T00:23:34.609691Z"
    }
   },
   "outputs": [],
   "source": [
    "ta_frame.amount.sum()"
   ]
  },
  {
   "cell_type": "code",
   "execution_count": null,
   "metadata": {
    "ExecuteTime": {
     "end_time": "2023-07-31T22:02:51.432313Z",
     "start_time": "2023-07-31T22:02:51.411256Z"
    }
   },
   "outputs": [],
   "source": [
    "budget_summary = ta_frame[[\"date\", \"amount\"]].rename(columns={\"amount\": \"budget\"})\n",
    "budget_summary = budget_summary.groupby(\"date\").sum()#.reset_index()\n",
    "budget_summary"
   ]
  },
  {
   "cell_type": "code",
   "execution_count": null,
   "metadata": {
    "ExecuteTime": {
     "end_time": "2023-07-31T22:02:51.531690Z",
     "start_time": "2023-07-31T22:02:51.411587Z"
    }
   },
   "outputs": [],
   "source": [
    "budget_summary.plot()"
   ]
  },
  {
   "cell_type": "code",
   "execution_count": null,
   "metadata": {
    "ExecuteTime": {
     "end_time": "2023-07-31T22:02:51.531980Z",
     "start_time": "2023-07-31T22:02:51.510454Z"
    }
   },
   "outputs": [],
   "source": [
    "budget_summary.budget.sum()"
   ]
  },
  {
   "cell_type": "markdown",
   "metadata": {
    "collapsed": false
   },
   "source": [
    "# Merge the budget frame into the report frame"
   ]
  },
  {
   "cell_type": "code",
   "execution_count": null,
   "metadata": {
    "ExecuteTime": {
     "end_time": "2023-07-31T22:02:51.532227Z",
     "start_time": "2023-07-31T22:02:51.527853Z"
    }
   },
   "outputs": [],
   "source": [
    "# Merge the ta frame into the report frame\n",
    "# Days not populated with ta data will be NaN\n",
    "report_frame = report_frame.merge(budget_summary, on=[\"date\"], how=\"outer\")\n",
    "report_frame"
   ]
  },
  {
   "cell_type": "markdown",
   "metadata": {
    "collapsed": false
   },
   "source": [
    "# Looking around while we're here"
   ]
  },
  {
   "cell_type": "code",
   "execution_count": null,
   "metadata": {
    "ExecuteTime": {
     "end_time": "2023-07-31T22:02:51.532335Z",
     "start_time": "2023-07-31T22:02:51.528157Z"
    }
   },
   "outputs": [],
   "source": [
    "temp = report_frame.copy()\n",
    "temp[\"year\"] = temp.date.dt.year\n",
    "temp[\"month\"] = temp.date.dt.month\n",
    "temp = temp.groupby([\"year\", \"month\"]).aggregate({\"budget\": \"sum\"})\n",
    "temp"
   ]
  },
  {
   "cell_type": "code",
   "execution_count": null,
   "metadata": {
    "ExecuteTime": {
     "end_time": "2023-07-31T22:02:51.532435Z",
     "start_time": "2023-07-31T22:02:51.528227Z"
    }
   },
   "outputs": [],
   "source": [
    "temp.budget.sum()"
   ]
  },
  {
   "cell_type": "markdown",
   "metadata": {
    "collapsed": false
   },
   "source": [
    "# Prepare Actuals Frame\n",
    "\n",
    "This comes from invoice data, spread out day by day over the indicated periods in the hours line items."
   ]
  },
  {
   "cell_type": "code",
   "execution_count": null,
   "metadata": {
    "ExecuteTime": {
     "end_time": "2023-07-31T22:02:51.544941Z",
     "start_time": "2023-07-31T22:02:51.532934Z"
    }
   },
   "outputs": [],
   "source": [
    "ta_array = []\n",
    "for consultancy in practice.consultancies:\n",
    "    for invoice in consultancy.invoices:\n",
    "        for line_item in invoice.line_items:\n",
    "            line_item_dict = line_item.model_dump()\n",
    "            line_item_dict[\"amount\"] = float(line_item.amount.root)\n",
    "            if line_item_dict[\"tag\"] == \"Hours\":\n",
    "                hours_range = pd.bdate_range(line_item.period_start, line_item.period_end, freq=\"C\", holidays=practice.statutory_holiday_list)\n",
    "                days = len(hours_range)\n",
    "                daily_hours = line_item_dict[\"hours\"] / days\n",
    "                daily_amount = line_item_dict[\"amount\"] / days\n",
    "                for date in hours_range:\n",
    "                    dated_dict = line_item_dict.copy()\n",
    "                    dated_dict[\"date\"] = date\n",
    "                    dated_dict[\"amount\"] = daily_amount\n",
    "                    dated_dict[\"hours\"] = daily_hours\n",
    "                    ta_array.append(dated_dict)\n",
    "            else:\n",
    "                line_item_dict[\"date\"] = pd.Timestamp(invoice.issue_date)\n",
    "                ta_array.append(line_item_dict)\n",
    "# rows\n",
    "actuals_frame = pd.DataFrame(ta_array)\n",
    "actuals_frame"
   ]
  },
  {
   "cell_type": "code",
   "execution_count": null,
   "metadata": {
    "ExecuteTime": {
     "end_time": "2023-07-31T22:02:51.545133Z",
     "start_time": "2023-07-31T22:02:51.538004Z"
    }
   },
   "outputs": [],
   "source": [
    "actuals_summary = actuals_frame[[\"date\", \"amount\"]].rename(columns={\"amount\": \"actual\"})\n",
    "actuals_summary = actuals_summary.groupby(\"date\").sum()#.reset_index()\n",
    "actuals_summary"
   ]
  },
  {
   "cell_type": "code",
   "execution_count": null,
   "metadata": {
    "ExecuteTime": {
     "end_time": "2023-07-31T22:02:51.546476Z",
     "start_time": "2023-07-31T22:02:51.544611Z"
    }
   },
   "outputs": [],
   "source": [
    "report_frame = report_frame.merge(actuals_summary, on=\"date\", how='outer')\n",
    "report_frame"
   ]
  },
  {
   "cell_type": "code",
   "execution_count": null,
   "metadata": {
    "ExecuteTime": {
     "end_time": "2023-07-31T22:02:51.676330Z",
     "start_time": "2023-07-31T22:02:51.549855Z"
    }
   },
   "outputs": [],
   "source": [
    "report_frame['year'] = report_frame['date'].dt.year\n",
    "report_frame['month'] = report_frame['date'].dt.month\n",
    "report_frame['budget'] = report_frame['budget'].fillna(0)\n",
    "report_frame['actual'] = report_frame['actual'].fillna(0)\n",
    "report_frame.groupby([\"year\", \"month\"]).aggregate({\"date\": \"first\", \"budget\": \"sum\", \"actual\": \"sum\"}).plot(y=[\"budget\", \"actual\"])"
   ]
  },
  {
   "cell_type": "code",
   "execution_count": null,
   "metadata": {
    "ExecuteTime": {
     "end_time": "2023-07-31T22:02:51.688721Z",
     "start_time": "2023-07-31T22:02:51.621442Z"
    }
   },
   "outputs": [],
   "source": [
    "report_frame.budget.sum()"
   ]
  },
  {
   "cell_type": "code",
   "execution_count": null,
   "metadata": {
    "ExecuteTime": {
     "end_time": "2023-07-31T22:02:51.733628Z",
     "start_time": "2023-07-31T22:02:51.624168Z"
    }
   },
   "outputs": [],
   "source": [
    "report_frame.actual.sum()"
   ]
  },
  {
   "cell_type": "code",
   "execution_count": null,
   "metadata": {
    "ExecuteTime": {
     "end_time": "2023-07-31T22:02:51.733985Z",
     "start_time": "2023-07-31T22:02:51.628529Z"
    }
   },
   "outputs": [],
   "source": [
    "report_frame"
   ]
  }
 ],
 "metadata": {
  "kernelspec": {
   "display_name": "Python 3",
   "language": "python",
   "name": "python3"
  },
  "language_info": {
   "codemirror_mode": {
    "name": "ipython",
    "version": 2
   },
   "file_extension": ".py",
   "mimetype": "text/x-python",
   "name": "python",
   "nbconvert_exporter": "python",
   "pygments_lexer": "ipython2",
   "version": "2.7.6"
  }
 },
 "nbformat": 4,
 "nbformat_minor": 0
}
