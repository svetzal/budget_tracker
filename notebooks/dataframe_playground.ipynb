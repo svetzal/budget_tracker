{
 "cells": [
  {
   "cell_type": "code",
   "execution_count": null,
   "metadata": {
    "ExecuteTime": {
     "end_time": "2023-07-19T23:37:04.472423Z",
     "start_time": "2023-07-19T23:37:04.043589Z"
    }
   },
   "outputs": [],
   "source": [
    "import pandas as pd\n",
    "# import numpy as np\n",
    "# import matplotlib.pyplot as plt\n",
    "%matplotlib inline\n",
    "\n",
    "from entities import CoachingPracticeFinance\n",
    "from presentation import DataFrameRenderer\n",
    "\n",
    "practice = CoachingPracticeFinance.load()"
   ]
  },
  {
   "cell_type": "code",
   "execution_count": null,
   "metadata": {
    "ExecuteTime": {
     "end_time": "2023-07-19T23:37:04.477169Z",
     "start_time": "2023-07-19T23:37:04.475155Z"
    }
   },
   "outputs": [],
   "source": [
    "aggregated = [\n",
    "    [c.code, c.name, c.contract, c.contact_name, c.contact_phone, c.contact_email] for c in practice.consultancies\n",
    "]\n",
    "df = pd.DataFrame(aggregated, columns=[\"Code\", \"Name\", \"Contract\", \"Contact Name\", \"Contact Phone\", \"Contact Email\"])\n",
    "output = DataFrameRenderer(title=\"Consultancies\", data=df, sort_by=[\"Name\"])\n",
    "print(output)"
   ]
  },
  {
   "cell_type": "code",
   "execution_count": null,
   "metadata": {
    "ExecuteTime": {
     "end_time": "2023-07-19T23:37:04.481437Z",
     "start_time": "2023-07-19T23:37:04.479621Z"
    }
   },
   "outputs": [],
   "source": [
    "areas = []\n",
    "for o in practice.contractors:\n",
    "    for a in practice.support_areas:\n",
    "        for s in practice.area_assignments:\n",
    "            if o.code == s.contractor_code and s.support_area_code == a.code:\n",
    "                areas.append([a.name, o.name, s.funding_source_transit, s.start_date, s.end_date])\n",
    "df = pd.DataFrame(areas, columns=[\"Area\", \"Contractor\", \"Funding Source\", \"Start Date\", \"End Date\"])\n",
    "output = DataFrameRenderer(title=\"Area Assignments\", data=df, sort_by=[\"Area\", \"Contractor\"])\n",
    "print(output)"
   ]
  },
  {
   "cell_type": "code",
   "execution_count": null,
   "metadata": {
    "ExecuteTime": {
     "end_time": "2023-07-19T23:37:04.484936Z",
     "start_time": "2023-07-19T23:37:04.483249Z"
    }
   },
   "outputs": [],
   "source": [
    "invoices = []\n",
    "for o in practice.consultancies:\n",
    "    for i in o.invoices:\n",
    "        invoices.append([i.number, i.issue_date.isoformat(), i.total(), o.name, i.paid])\n",
    "df = pd.DataFrame(invoices, columns=[\"Invoice Number\", \"Issue Date\", \"Total\", \"Consultancy\", \"Paid\"])\n",
    "output = DataFrameRenderer(title=\"Invoices\", data=df, sort_by=[\"Issue Date\", \"Invoice Number\"])\n",
    "print(output)"
   ]
  },
  {
   "cell_type": "code",
   "execution_count": null,
   "metadata": {
    "ExecuteTime": {
     "end_time": "2023-07-19T23:37:04.489468Z",
     "start_time": "2023-07-19T23:37:04.487725Z"
    }
   },
   "outputs": [],
   "source": [
    "people = []\n",
    "for o in practice.consultancies:\n",
    "    for p in practice.contractors:\n",
    "        if o.code == p.consultancy_code:\n",
    "            people.append([p.code, p.name, o.name])\n",
    "for p in practice.employees:\n",
    "    people.append([p.code, p.name, \"RBC\"])\n",
    "df = pd.DataFrame(people, columns=[\"Code\", \"Name\", \"Company\"])\n",
    "output = DataFrameRenderer(title=\"People\", data=df, sort_by=[\"Name\"])\n",
    "print(output)"
   ]
  },
  {
   "cell_type": "code",
   "execution_count": null,
   "metadata": {
    "ExecuteTime": {
     "end_time": "2023-07-19T23:37:04.520675Z",
     "start_time": "2023-07-19T23:37:04.492382Z"
    }
   },
   "outputs": [],
   "source": [
    "from datetime import date\n",
    "\n",
    "contractors = []\n",
    "for consultancy in practice.consultancies:\n",
    "    for o in practice.contractors:\n",
    "        if o.consultancy_code == consultancy.code:\n",
    "            ta_found = False\n",
    "            for ta in practice.transaction_agreements:\n",
    "                if ta.contractor_code == o.code:\n",
    "                    if ta.start_date <= date.today() <= ta.end_date:\n",
    "                        ta_found = True\n",
    "                        contractors.append(\n",
    "                            [o.code, o.name, consultancy.name, ta.number, ta.rate, ta.hours, ta.start_date, ta.end_date])\n",
    "            if not ta_found:\n",
    "                contractors.append([o.code, o.name, consultancy.name, None, None, \"\", None, None])\n",
    "df = pd.DataFrame(contractors, columns=[\"Code\", \"Name\", \"Consultancy\", \"Agreement\", \"Rate\", \"Hours\", \"Start\", \"End\"])\n",
    "output = DataFrameRenderer(title=\"Contractors\", data=df, sort_by=[\"Name\"])\n",
    "print(output)"
   ]
  },
  {
   "cell_type": "code",
   "execution_count": null,
   "metadata": {
    "ExecuteTime": {
     "end_time": "2023-07-19T23:37:04.527182Z",
     "start_time": "2023-07-19T23:37:04.497087Z"
    }
   },
   "outputs": [],
   "source": [
    "consultancies = []\n",
    "for o in practice.consultancies:\n",
    "    for c in practice.contractors:\n",
    "        if o.code == c.consultancy_code:\n",
    "            consultancies.append([o.code, o.name, c.code])\n",
    "df = pd.DataFrame(consultancies, columns=[\"Code\", \"Name\", \"Contractors\"])\n",
    "aggregated = df.groupby([\"Code\", \"Name\"], as_index=False).count()\n",
    "output = DataFrameRenderer(title=\"Consultancies\", data=aggregated, sort_by=[\"Name\"])\n",
    "print(output)"
   ]
  },
  {
   "cell_type": "code",
   "execution_count": null,
   "metadata": {
    "ExecuteTime": {
     "end_time": "2023-07-19T23:37:04.649978Z",
     "start_time": "2023-07-19T23:37:04.502384Z"
    }
   },
   "outputs": [],
   "source": [
    "target_budget = []\n",
    "for fs in practice.funding_sources:\n",
    "    funding_range = pd.bdate_range(ta.start_date, ta.end_date, freq=\"C\", holidays=practice.statutory_holiday_list)\n",
    "    for d in funding_range:\n",
    "        target_budget.append([fs.transit, fs.name, d, fs.total.__root__/len(funding_range)])\n",
    "df = pd.DataFrame(target_budget, columns=[\"Transit\", \"Funding Source\", \"Date\", \"Target Budget\"])\n",
    "df[\"Month\"] = df.Date.dt.month\n",
    "df[\"Amount\"] = df[\"Target Budget\"].astype(float)\n",
    "monthly_target_budget = df[[\"Month\",\"Amount\"]].groupby(\"Month\", sort=False).sum()\n",
    "monthly_target_budget\n"
   ]
  },
  {
   "cell_type": "code",
   "execution_count": null,
   "metadata": {},
   "outputs": [],
   "source": []
  },
  {
   "cell_type": "code",
   "execution_count": null,
   "metadata": {
    "ExecuteTime": {
     "end_time": "2023-07-22T12:19:55.081058Z",
     "start_time": "2023-07-22T12:19:55.076346Z"
    }
   },
   "outputs": [],
   "source": [
    "stock_prices = pd.DataFrame({\n",
    "    'AAPL': [150, 151, 152],\n",
    "    'GOOG': [1050, 1060, 1070],\n",
    "    'MSFT': [200, 201, 202]\n",
    "}, index=pd.date_range(start='2023-01-01', periods=3))\n",
    "stock_prices"
   ]
  },
  {
   "cell_type": "code",
   "execution_count": null,
   "metadata": {
    "ExecuteTime": {
     "end_time": "2023-07-22T12:20:22.427558Z",
     "start_time": "2023-07-22T12:20:22.410403Z"
    }
   },
   "outputs": [],
   "source": [
    "stock_prices.stack()"
   ]
  },
  {
   "cell_type": "code",
   "execution_count": null,
   "metadata": {
    "ExecuteTime": {
     "end_time": "2023-07-22T12:21:42.692061Z",
     "start_time": "2023-07-22T12:21:42.688180Z"
    }
   },
   "outputs": [],
   "source": [
    "transactions = pd.DataFrame({\n",
    "    'date': pd.date_range(start='2023-01-01', periods=3).tolist() * 3,\n",
    "    'stock': ['AAPL'] * 3 + ['GOOG'] * 3 + ['MSFT'] * 3,\n",
    "    'price': [150, 151, 152, 1050, 1060, 1070, 200, 201, 202]\n",
    "})\n",
    "transactions"
   ]
  },
  {
   "cell_type": "code",
   "execution_count": null,
   "metadata": {
    "ExecuteTime": {
     "end_time": "2023-07-22T12:23:25.897856Z",
     "start_time": "2023-07-22T12:23:25.888090Z"
    }
   },
   "outputs": [],
   "source": [
    "transactions.groupby(['date', 'stock']).price.mean()"
   ]
  },
  {
   "cell_type": "code",
   "execution_count": null,
   "metadata": {
    "ExecuteTime": {
     "end_time": "2023-07-22T12:24:12.049218Z",
     "start_time": "2023-07-22T12:24:12.045006Z"
    }
   },
   "outputs": [],
   "source": [
    "transactions.groupby(['date', 'stock']).price.mean().unstack()"
   ]
  },
  {
   "cell_type": "code",
   "execution_count": null,
   "metadata": {},
   "outputs": [],
   "source": []
  }
 ],
 "metadata": {
  "kernelspec": {
   "display_name": "Python 3",
   "language": "python",
   "name": "python3"
  },
  "language_info": {
   "codemirror_mode": {
    "name": "ipython",
    "version": 2
   },
   "file_extension": ".py",
   "mimetype": "text/x-python",
   "name": "python",
   "nbconvert_exporter": "python",
   "pygments_lexer": "ipython2",
   "version": "2.7.6"
  }
 },
 "nbformat": 4,
 "nbformat_minor": 0
}
