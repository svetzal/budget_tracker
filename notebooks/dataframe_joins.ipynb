{
 "cells": [
  {
   "cell_type": "code",
   "execution_count": null,
   "metadata": {
    "ExecuteTime": {
     "end_time": "2023-07-29T13:46:18.404021Z",
     "start_time": "2023-07-29T13:46:18.162300Z"
    }
   },
   "outputs": [],
   "source": [
    "import pandas as pd"
   ]
  },
  {
   "cell_type": "code",
   "execution_count": null,
   "metadata": {
    "ExecuteTime": {
     "end_time": "2023-07-29T13:48:04.873121Z",
     "start_time": "2023-07-29T13:48:04.869671Z"
    }
   },
   "outputs": [],
   "source": [
    "data = pd.DataFrame({'date': pd.date_range('2023-01-01', '2023-01-03'), 'a': [1, 2, 3], 'b': [4, 5, 6]})\n",
    "data"
   ]
  },
  {
   "cell_type": "code",
   "execution_count": null,
   "metadata": {
    "ExecuteTime": {
     "end_time": "2023-07-29T13:49:03.988893Z",
     "start_time": "2023-07-29T13:49:03.985448Z"
    }
   },
   "outputs": [],
   "source": [
    "partial = pd.DataFrame({'date': [pd.to_datetime('2023-01-02')], 'c': [7]})\n",
    "partial"
   ]
  },
  {
   "cell_type": "code",
   "execution_count": null,
   "metadata": {
    "ExecuteTime": {
     "end_time": "2023-07-29T13:53:57.909449Z",
     "start_time": "2023-07-29T13:53:57.904191Z"
    }
   },
   "outputs": [],
   "source": [
    "data.merge(partial, how='left', on='date')"
   ]
  },
  {
   "cell_type": "code",
   "execution_count": null,
   "metadata": {},
   "outputs": [],
   "source": []
  }
 ],
 "metadata": {
  "kernelspec": {
   "display_name": "Python 3",
   "language": "python",
   "name": "python3"
  },
  "language_info": {
   "codemirror_mode": {
    "name": "ipython",
    "version": 2
   },
   "file_extension": ".py",
   "mimetype": "text/x-python",
   "name": "python",
   "nbconvert_exporter": "python",
   "pygments_lexer": "ipython2",
   "version": "2.7.6"
  }
 },
 "nbformat": 4,
 "nbformat_minor": 0
}
