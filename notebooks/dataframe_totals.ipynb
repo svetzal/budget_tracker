{
 "cells": [
  {
   "cell_type": "code",
   "execution_count": null,
   "metadata": {
    "ExecuteTime": {
     "end_time": "2023-07-31T01:38:58.474242Z",
     "start_time": "2023-07-31T01:38:57.098541Z"
    }
   },
   "outputs": [],
   "source": [
    "import pandas as pd\n",
    "%matplotlib inline\n",
    "\n",
    "from entities import CoachingPracticeFinance\n",
    "\n",
    "practice = CoachingPracticeFinance.load(\"../practice.json\")"
   ]
  },
  {
   "cell_type": "code",
   "execution_count": null,
   "metadata": {
    "ExecuteTime": {
     "end_time": "2023-07-31T01:38:58.496425Z",
     "start_time": "2023-07-31T01:38:58.488036Z"
    }
   },
   "outputs": [],
   "source": [
    "rows = []\n",
    "for c in practice.contractors:\n",
    "    for ta in practice.transaction_agreements:\n",
    "        if ta.contractor_code == c.code:\n",
    "            dates = pd.bdate_range(ta.start_date, ta.end_date, freq=\"C\", holidays=practice.statutory_holiday_list)\n",
    "            for date in dates:\n",
    "                rows.append([date, c.name, ta.rate.root * practice.standard_hours_per_day])\n",
    "df = pd.DataFrame(rows, columns=[\"date\", \"contractor\", \"rate\"])\n",
    "df"
   ]
  },
  {
   "cell_type": "code",
   "execution_count": null,
   "metadata": {
    "ExecuteTime": {
     "end_time": "2023-07-31T01:38:58.501491Z",
     "start_time": "2023-07-31T01:38:58.495963Z"
    }
   },
   "outputs": [],
   "source": [
    "df['year'] = df.date.dt.year\n",
    "df['month'] = df.date.dt.month\n",
    "df"
   ]
  },
  {
   "cell_type": "code",
   "execution_count": null,
   "metadata": {
    "ExecuteTime": {
     "end_time": "2023-07-31T01:38:58.525169Z",
     "start_time": "2023-07-31T01:38:58.502659Z"
    }
   },
   "outputs": [],
   "source": [
    "report = df.groupby([\"year\", \"month\", \"contractor\"]).aggregate({\"date\": \"first\", \"rate\": \"sum\"}).reset_index()\n",
    "report"
   ]
  },
  {
   "cell_type": "code",
   "execution_count": null,
   "metadata": {
    "ExecuteTime": {
     "end_time": "2023-07-31T01:38:58.551001Z",
     "start_time": "2023-07-31T01:38:58.510834Z"
    }
   },
   "outputs": [],
   "source": [
    "by_contractor = report.pivot(index=[\"date\"], columns=\"contractor\", values=\"rate\")\n",
    "by_contractor"
   ]
  },
  {
   "cell_type": "code",
   "execution_count": null,
   "metadata": {
    "ExecuteTime": {
     "end_time": "2023-07-31T01:38:58.570766Z",
     "start_time": "2023-07-31T01:38:58.518786Z"
    }
   },
   "outputs": [],
   "source": [
    "by_contractor.iloc[:, :].sum(axis=0)"
   ]
  },
  {
   "cell_type": "code",
   "execution_count": null,
   "metadata": {
    "ExecuteTime": {
     "end_time": "2023-07-31T01:38:58.597339Z",
     "start_time": "2023-07-31T01:38:58.524942Z"
    }
   },
   "outputs": [],
   "source": [
    "by_contractor.iloc[:, :].sum(axis=1)"
   ]
  },
  {
   "cell_type": "code",
   "execution_count": null,
   "metadata": {
    "ExecuteTime": {
     "end_time": "2023-07-31T01:39:36.909352Z",
     "start_time": "2023-07-31T01:39:36.905019Z"
    }
   },
   "outputs": [],
   "source": [
    "report.index"
   ]
  },
  {
   "cell_type": "code",
   "execution_count": null,
   "metadata": {
    "ExecuteTime": {
     "end_time": "2023-07-31T01:38:58.597713Z",
     "start_time": "2023-07-31T01:38:58.533650Z"
    }
   },
   "outputs": [],
   "source": []
  }
 ],
 "metadata": {
  "kernelspec": {
   "display_name": "Python 3",
   "language": "python",
   "name": "python3"
  },
  "language_info": {
   "codemirror_mode": {
    "name": "ipython",
    "version": 2
   },
   "file_extension": ".py",
   "mimetype": "text/x-python",
   "name": "python",
   "nbconvert_exporter": "python",
   "pygments_lexer": "ipython2",
   "version": "2.7.6"
  }
 },
 "nbformat": 4,
 "nbformat_minor": 0
}
