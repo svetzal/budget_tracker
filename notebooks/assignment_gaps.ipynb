{
 "cells": [
  {
   "cell_type": "markdown",
   "metadata": {
    "collapsed": false
   },
   "source": [
    "# Determine support assignment gaps"
   ]
  },
  {
   "cell_type": "code",
   "execution_count": null,
   "metadata": {
    "ExecuteTime": {
     "end_time": "2023-08-01T16:05:06.312712Z",
     "start_time": "2023-08-01T16:05:05.702320Z"
    }
   },
   "outputs": [],
   "source": [
    "import pandas as pd\n",
    "%matplotlib inline\n",
    "\n",
    "from entities import CoachingPracticeFinance, ExpenseLineItem, HoursLineItem\n",
    "\n",
    "practice = CoachingPracticeFinance.load(\"../practice.json\")"
   ]
  },
  {
   "cell_type": "code",
   "execution_count": null,
   "metadata": {
    "ExecuteTime": {
     "end_time": "2023-08-01T16:05:07.806671Z",
     "start_time": "2023-08-01T16:05:07.800055Z"
    }
   },
   "outputs": [],
   "source": [
    "period_start = pd.to_datetime(\"2022-11-01\")\n",
    "period_end = pd.to_datetime(\"2023-10-31\")\n",
    "report_date_range = pd.bdate_range(period_start, period_end, freq=\"C\", holidays=practice.statutory_holiday_list)\n",
    "report_frame = pd.DataFrame(report_date_range, columns=[\"date\"])\n",
    "report_frame"
   ]
  },
  {
   "cell_type": "code",
   "execution_count": null,
   "metadata": {
    "ExecuteTime": {
     "end_time": "2023-08-01T16:05:08.628140Z",
     "start_time": "2023-08-01T16:05:08.625608Z"
    }
   },
   "outputs": [],
   "source": [
    "assignment_coverage = []\n",
    "columns = ['date'] + [a.support_area_code for a in practice.area_assignments]\n",
    "for date in report_date_range:\n",
    "    row = [date]\n",
    "    for a in practice.area_assignments:\n",
    "        start = pd.to_datetime(a.start_date)\n",
    "        end = pd.to_datetime(a.end_date)\n",
    "        row.append(start <= date and end >= date)\n",
    "    assignment_coverage.append(row)\n",
    "assignments_frame = pd.DataFrame(assignment_coverage, columns=columns)\n",
    "assignments_frame"
   ]
  },
  {
   "cell_type": "code",
   "execution_count": null,
   "metadata": {
    "ExecuteTime": {
     "end_time": "2023-08-01T16:05:09.352843Z",
     "start_time": "2023-08-01T16:05:09.347023Z"
    }
   },
   "outputs": [],
   "source": [
    "df = report_frame.merge(assignments_frame, how=\"outer\", on=\"date\")\n",
    "df"
   ]
  },
  {
   "cell_type": "code",
   "execution_count": null,
   "metadata": {
    "ExecuteTime": {
     "end_time": "2023-08-01T16:05:10.005405Z",
     "start_time": "2023-08-01T16:05:10.000787Z"
    }
   },
   "outputs": [],
   "source": [
    "for a in practice.area_assignments:\n",
    "    df[f\"{a.support_area_code}_group\"] = (df[a.support_area_code].diff() != 0).cumsum()\n",
    "df"
   ]
  },
  {
   "cell_type": "code",
   "execution_count": null,
   "metadata": {
    "ExecuteTime": {
     "end_time": "2023-08-01T16:05:10.844024Z",
     "start_time": "2023-08-01T16:05:10.833106Z"
    }
   },
   "outputs": [],
   "source": [
    "from tabulate import tabulate\n",
    "\n",
    "lines = []\n",
    "for a in practice.area_assignments:\n",
    "    unstaffed = df[df[a.support_area_code] == False]\n",
    "    report = unstaffed.groupby(f\"{a.support_area_code}_group\")['date'].agg(['min', 'max'])\n",
    "    report = report.reset_index(drop=True)\n",
    "    if report.count()[0] > 0:\n",
    "        lines.append(\"\")\n",
    "        lines.append(f\"{a.support_area_code} is Unstaffed\")\n",
    "        lines.append(\"\")\n",
    "        report['min'] = report['min'].dt.strftime('%Y-%m-%d')\n",
    "        report['max'] = report['max'].dt.strftime('%Y-%m-%d')\n",
    "        report.columns = ['Start Date', 'End Date']\n",
    "        lines.append(tabulate(report, showindex=False))\n",
    "print(\"\\n\".join(lines))"
   ]
  },
  {
   "cell_type": "code",
   "execution_count": null,
   "metadata": {},
   "outputs": [],
   "source": []
  }
 ],
 "metadata": {
  "kernelspec": {
   "display_name": "Python 3",
   "language": "python",
   "name": "python3"
  },
  "language_info": {
   "codemirror_mode": {
    "name": "ipython",
    "version": 2
   },
   "file_extension": ".py",
   "mimetype": "text/x-python",
   "name": "python",
   "nbconvert_exporter": "python",
   "pygments_lexer": "ipython2",
   "version": "2.7.6"
  }
 },
 "nbformat": 4,
 "nbformat_minor": 0
}
