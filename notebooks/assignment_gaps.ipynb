{
 "cells": [
  {
   "cell_type": "markdown",
   "metadata": {
    "collapsed": false
   },
   "source": [
    "# Determine support assignment gaps"
   ]
  },
  {
   "cell_type": "code",
   "execution_count": null,
   "metadata": {
    "ExecuteTime": {
     "end_time": "2023-08-01T16:05:06.312712Z",
     "start_time": "2023-08-01T16:05:05.702320Z"
    }
   },
   "outputs": [],
   "source": [
    "import pandas as pd\n",
    "%matplotlib inline\n",
    "\n",
    "from entities import CoachingPracticeFinance, ExpenseLineItem, HoursLineItem\n",
    "\n",
    "practice = CoachingPracticeFinance.load(\"../practice.json\")"
   ]
  },
  {
   "cell_type": "code",
   "execution_count": null,
   "metadata": {
    "ExecuteTime": {
     "end_time": "2023-08-01T16:05:07.806671Z",
     "start_time": "2023-08-01T16:05:07.800055Z"
    }
   },
   "outputs": [],
   "source": [
    "period_start = pd.to_datetime(\"2022-11-01\")\n",
    "period_end = pd.to_datetime(\"2023-10-31\")\n",
    "report_date_range = pd.bdate_range(period_start, period_end, freq=\"C\", holidays=practice.statutory_holiday_list)\n",
    "report_frame = pd.DataFrame(report_date_range, columns=[\"date\"])\n",
    "report_frame"
   ]
  },
  {
   "cell_type": "code",
   "execution_count": null,
   "metadata": {
    "ExecuteTime": {
     "end_time": "2023-08-01T16:23:36.946944Z",
     "start_time": "2023-08-01T16:23:36.938907Z"
    }
   },
   "outputs": [],
   "source": [
    "assignment_coverage = []\n",
    "columns = ['date'] + [a.code for a in practice.support_areas]\n",
    "for date in report_date_range:\n",
    "    row = [date]\n",
    "    for a in practice.support_areas:\n",
    "        covered = False\n",
    "        for aa in practice.area_assignments:\n",
    "            if aa.support_area_code == a.code:\n",
    "                start = pd.to_datetime(aa.start_date)\n",
    "                end = pd.to_datetime(aa.end_date)\n",
    "                if start <= date <= end:\n",
    "                    covered = True\n",
    "        row.append(covered)\n",
    "    assignment_coverage.append(row)\n",
    "assignments_frame = pd.DataFrame(assignment_coverage, columns=columns)\n",
    "assignments_frame"
   ]
  },
  {
   "cell_type": "code",
   "execution_count": null,
   "metadata": {
    "ExecuteTime": {
     "end_time": "2023-08-01T16:23:41.973025Z",
     "start_time": "2023-08-01T16:23:41.964894Z"
    }
   },
   "outputs": [],
   "source": [
    "df = report_frame.merge(assignments_frame, how=\"outer\", on=\"date\")\n",
    "df"
   ]
  },
  {
   "cell_type": "code",
   "execution_count": null,
   "metadata": {
    "ExecuteTime": {
     "end_time": "2023-08-01T16:23:58.428559Z",
     "start_time": "2023-08-01T16:23:58.421478Z"
    }
   },
   "outputs": [],
   "source": [
    "for a in practice.support_areas:\n",
    "    df[f\"{a.code}_group\"] = (df[a.code].diff() != 0).cumsum()\n",
    "df"
   ]
  },
  {
   "cell_type": "code",
   "execution_count": null,
   "metadata": {
    "ExecuteTime": {
     "end_time": "2023-08-01T16:52:05.907711Z",
     "start_time": "2023-08-01T16:52:05.905741Z"
    }
   },
   "outputs": [],
   "source": [
    "from tabulate import tabulate\n",
    "\n",
    "lines = []\n",
    "for a in practice.support_areas:\n",
    "    unstaffed = df[df[a.code] == False]\n",
    "    report = unstaffed.groupby(f\"{a.code}_group\")['date'].agg(['min', 'max'])\n",
    "    report = report.reset_index(drop=True)\n",
    "    if report.count()[0] > 0:\n",
    "        lines.append(\"\")\n",
    "        lines.append(f\"{a.code} is Unstaffed\")\n",
    "        lines.append(\"\")\n",
    "        report['min'] = report['min'].dt.strftime('%Y-%m-%d')\n",
    "        report['max'] = report['max'].dt.strftime('%Y-%m-%d')\n",
    "        report.columns = ['Start Date', 'End Date']\n",
    "        lines.append(tabulate(report, showindex=False, tablefmt='plain'))\n",
    "print(\"\\n\".join(lines))"
   ]
  },
  {
   "cell_type": "code",
   "execution_count": null,
   "metadata": {},
   "outputs": [],
   "source": []
  }
 ],
 "metadata": {
  "kernelspec": {
   "display_name": "Python 3",
   "language": "python",
   "name": "python3"
  },
  "language_info": {
   "codemirror_mode": {
    "name": "ipython",
    "version": 2
   },
   "file_extension": ".py",
   "mimetype": "text/x-python",
   "name": "python",
   "nbconvert_exporter": "python",
   "pygments_lexer": "ipython2",
   "version": "2.7.6"
  }
 },
 "nbformat": 4,
 "nbformat_minor": 0
}
