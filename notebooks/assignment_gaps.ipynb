{
 "cells": [
  {
   "cell_type": "markdown",
   "metadata": {
    "collapsed": false
   },
   "source": [
    "# Determine support assignment gaps"
   ]
  },
  {
   "cell_type": "code",
   "execution_count": 1,
   "metadata": {
    "ExecuteTime": {
     "end_time": "2023-08-01T16:05:06.312712Z",
     "start_time": "2023-08-01T16:05:05.702320Z"
    }
   },
   "outputs": [],
   "source": [
    "import pandas as pd\n",
    "%matplotlib inline\n",
    "\n",
    "from entities import CoachingPracticeFinance, ExpenseLineItem, HoursLineItem\n",
    "\n",
    "practice = CoachingPracticeFinance.load(\"../practice.json\")"
   ]
  },
  {
   "cell_type": "code",
   "execution_count": 2,
   "metadata": {
    "ExecuteTime": {
     "end_time": "2023-08-01T16:05:07.806671Z",
     "start_time": "2023-08-01T16:05:07.800055Z"
    }
   },
   "outputs": [
    {
     "data": {
      "text/plain": "          date\n0   2022-11-01\n1   2022-11-02\n2   2022-11-03\n3   2022-11-04\n4   2022-11-07\n..         ...\n246 2023-10-25\n247 2023-10-26\n248 2023-10-27\n249 2023-10-30\n250 2023-10-31\n\n[251 rows x 1 columns]",
      "text/html": "<div>\n<style scoped>\n    .dataframe tbody tr th:only-of-type {\n        vertical-align: middle;\n    }\n\n    .dataframe tbody tr th {\n        vertical-align: top;\n    }\n\n    .dataframe thead th {\n        text-align: right;\n    }\n</style>\n<table border=\"1\" class=\"dataframe\">\n  <thead>\n    <tr style=\"text-align: right;\">\n      <th></th>\n      <th>date</th>\n    </tr>\n  </thead>\n  <tbody>\n    <tr>\n      <th>0</th>\n      <td>2022-11-01</td>\n    </tr>\n    <tr>\n      <th>1</th>\n      <td>2022-11-02</td>\n    </tr>\n    <tr>\n      <th>2</th>\n      <td>2022-11-03</td>\n    </tr>\n    <tr>\n      <th>3</th>\n      <td>2022-11-04</td>\n    </tr>\n    <tr>\n      <th>4</th>\n      <td>2022-11-07</td>\n    </tr>\n    <tr>\n      <th>...</th>\n      <td>...</td>\n    </tr>\n    <tr>\n      <th>246</th>\n      <td>2023-10-25</td>\n    </tr>\n    <tr>\n      <th>247</th>\n      <td>2023-10-26</td>\n    </tr>\n    <tr>\n      <th>248</th>\n      <td>2023-10-27</td>\n    </tr>\n    <tr>\n      <th>249</th>\n      <td>2023-10-30</td>\n    </tr>\n    <tr>\n      <th>250</th>\n      <td>2023-10-31</td>\n    </tr>\n  </tbody>\n</table>\n<p>251 rows × 1 columns</p>\n</div>"
     },
     "execution_count": 2,
     "metadata": {},
     "output_type": "execute_result"
    }
   ],
   "source": [
    "period_start = pd.to_datetime(\"2022-11-01\")\n",
    "period_end = pd.to_datetime(\"2023-10-31\")\n",
    "report_date_range = pd.bdate_range(period_start, period_end, freq=\"C\", holidays=practice.statutory_holiday_list)\n",
    "report_frame = pd.DataFrame(report_date_range, columns=[\"date\"])\n",
    "report_frame"
   ]
  },
  {
   "cell_type": "code",
   "execution_count": 7,
   "metadata": {
    "ExecuteTime": {
     "end_time": "2023-08-01T16:23:36.946944Z",
     "start_time": "2023-08-01T16:23:36.938907Z"
    }
   },
   "outputs": [
    {
     "data": {
      "text/plain": "          date  homeX     CB   Dojo\n0   2022-11-01   True  False   True\n1   2022-11-02   True  False   True\n2   2022-11-03   True  False   True\n3   2022-11-04   True  False   True\n4   2022-11-07   True  False   True\n..         ...    ...    ...    ...\n246 2023-10-25  False   True  False\n247 2023-10-26  False   True  False\n248 2023-10-27  False   True  False\n249 2023-10-30  False   True  False\n250 2023-10-31  False   True  False\n\n[251 rows x 4 columns]",
      "text/html": "<div>\n<style scoped>\n    .dataframe tbody tr th:only-of-type {\n        vertical-align: middle;\n    }\n\n    .dataframe tbody tr th {\n        vertical-align: top;\n    }\n\n    .dataframe thead th {\n        text-align: right;\n    }\n</style>\n<table border=\"1\" class=\"dataframe\">\n  <thead>\n    <tr style=\"text-align: right;\">\n      <th></th>\n      <th>date</th>\n      <th>homeX</th>\n      <th>CB</th>\n      <th>Dojo</th>\n    </tr>\n  </thead>\n  <tbody>\n    <tr>\n      <th>0</th>\n      <td>2022-11-01</td>\n      <td>True</td>\n      <td>False</td>\n      <td>True</td>\n    </tr>\n    <tr>\n      <th>1</th>\n      <td>2022-11-02</td>\n      <td>True</td>\n      <td>False</td>\n      <td>True</td>\n    </tr>\n    <tr>\n      <th>2</th>\n      <td>2022-11-03</td>\n      <td>True</td>\n      <td>False</td>\n      <td>True</td>\n    </tr>\n    <tr>\n      <th>3</th>\n      <td>2022-11-04</td>\n      <td>True</td>\n      <td>False</td>\n      <td>True</td>\n    </tr>\n    <tr>\n      <th>4</th>\n      <td>2022-11-07</td>\n      <td>True</td>\n      <td>False</td>\n      <td>True</td>\n    </tr>\n    <tr>\n      <th>...</th>\n      <td>...</td>\n      <td>...</td>\n      <td>...</td>\n      <td>...</td>\n    </tr>\n    <tr>\n      <th>246</th>\n      <td>2023-10-25</td>\n      <td>False</td>\n      <td>True</td>\n      <td>False</td>\n    </tr>\n    <tr>\n      <th>247</th>\n      <td>2023-10-26</td>\n      <td>False</td>\n      <td>True</td>\n      <td>False</td>\n    </tr>\n    <tr>\n      <th>248</th>\n      <td>2023-10-27</td>\n      <td>False</td>\n      <td>True</td>\n      <td>False</td>\n    </tr>\n    <tr>\n      <th>249</th>\n      <td>2023-10-30</td>\n      <td>False</td>\n      <td>True</td>\n      <td>False</td>\n    </tr>\n    <tr>\n      <th>250</th>\n      <td>2023-10-31</td>\n      <td>False</td>\n      <td>True</td>\n      <td>False</td>\n    </tr>\n  </tbody>\n</table>\n<p>251 rows × 4 columns</p>\n</div>"
     },
     "execution_count": 7,
     "metadata": {},
     "output_type": "execute_result"
    }
   ],
   "source": [
    "assignment_coverage = []\n",
    "columns = ['date'] + [a.code for a in practice.support_areas]\n",
    "for date in report_date_range:\n",
    "    row = [date]\n",
    "    for a in practice.support_areas:\n",
    "        covered = False\n",
    "        for aa in practice.area_assignments:\n",
    "            if aa.support_area_code == a.code:\n",
    "                start = pd.to_datetime(aa.start_date)\n",
    "                end = pd.to_datetime(aa.end_date)\n",
    "                if start <= date <= end:\n",
    "                    covered = True\n",
    "        row.append(covered)\n",
    "    assignment_coverage.append(row)\n",
    "assignments_frame = pd.DataFrame(assignment_coverage, columns=columns)\n",
    "assignments_frame"
   ]
  },
  {
   "cell_type": "code",
   "execution_count": 8,
   "metadata": {
    "ExecuteTime": {
     "end_time": "2023-08-01T16:23:41.973025Z",
     "start_time": "2023-08-01T16:23:41.964894Z"
    }
   },
   "outputs": [
    {
     "data": {
      "text/plain": "          date  homeX     CB   Dojo\n0   2022-11-01   True  False   True\n1   2022-11-02   True  False   True\n2   2022-11-03   True  False   True\n3   2022-11-04   True  False   True\n4   2022-11-07   True  False   True\n..         ...    ...    ...    ...\n246 2023-10-25  False   True  False\n247 2023-10-26  False   True  False\n248 2023-10-27  False   True  False\n249 2023-10-30  False   True  False\n250 2023-10-31  False   True  False\n\n[251 rows x 4 columns]",
      "text/html": "<div>\n<style scoped>\n    .dataframe tbody tr th:only-of-type {\n        vertical-align: middle;\n    }\n\n    .dataframe tbody tr th {\n        vertical-align: top;\n    }\n\n    .dataframe thead th {\n        text-align: right;\n    }\n</style>\n<table border=\"1\" class=\"dataframe\">\n  <thead>\n    <tr style=\"text-align: right;\">\n      <th></th>\n      <th>date</th>\n      <th>homeX</th>\n      <th>CB</th>\n      <th>Dojo</th>\n    </tr>\n  </thead>\n  <tbody>\n    <tr>\n      <th>0</th>\n      <td>2022-11-01</td>\n      <td>True</td>\n      <td>False</td>\n      <td>True</td>\n    </tr>\n    <tr>\n      <th>1</th>\n      <td>2022-11-02</td>\n      <td>True</td>\n      <td>False</td>\n      <td>True</td>\n    </tr>\n    <tr>\n      <th>2</th>\n      <td>2022-11-03</td>\n      <td>True</td>\n      <td>False</td>\n      <td>True</td>\n    </tr>\n    <tr>\n      <th>3</th>\n      <td>2022-11-04</td>\n      <td>True</td>\n      <td>False</td>\n      <td>True</td>\n    </tr>\n    <tr>\n      <th>4</th>\n      <td>2022-11-07</td>\n      <td>True</td>\n      <td>False</td>\n      <td>True</td>\n    </tr>\n    <tr>\n      <th>...</th>\n      <td>...</td>\n      <td>...</td>\n      <td>...</td>\n      <td>...</td>\n    </tr>\n    <tr>\n      <th>246</th>\n      <td>2023-10-25</td>\n      <td>False</td>\n      <td>True</td>\n      <td>False</td>\n    </tr>\n    <tr>\n      <th>247</th>\n      <td>2023-10-26</td>\n      <td>False</td>\n      <td>True</td>\n      <td>False</td>\n    </tr>\n    <tr>\n      <th>248</th>\n      <td>2023-10-27</td>\n      <td>False</td>\n      <td>True</td>\n      <td>False</td>\n    </tr>\n    <tr>\n      <th>249</th>\n      <td>2023-10-30</td>\n      <td>False</td>\n      <td>True</td>\n      <td>False</td>\n    </tr>\n    <tr>\n      <th>250</th>\n      <td>2023-10-31</td>\n      <td>False</td>\n      <td>True</td>\n      <td>False</td>\n    </tr>\n  </tbody>\n</table>\n<p>251 rows × 4 columns</p>\n</div>"
     },
     "execution_count": 8,
     "metadata": {},
     "output_type": "execute_result"
    }
   ],
   "source": [
    "df = report_frame.merge(assignments_frame, how=\"outer\", on=\"date\")\n",
    "df"
   ]
  },
  {
   "cell_type": "code",
   "execution_count": 9,
   "metadata": {
    "ExecuteTime": {
     "end_time": "2023-08-01T16:23:58.428559Z",
     "start_time": "2023-08-01T16:23:58.421478Z"
    }
   },
   "outputs": [
    {
     "data": {
      "text/plain": "          date  homeX     CB   Dojo  homeX_group  CB_group  Dojo_group\n0   2022-11-01   True  False   True            1         1           1\n1   2022-11-02   True  False   True            1         1           1\n2   2022-11-03   True  False   True            1         1           1\n3   2022-11-04   True  False   True            1         1           1\n4   2022-11-07   True  False   True            1         1           1\n..         ...    ...    ...    ...          ...       ...         ...\n246 2023-10-25  False   True  False            2         2           2\n247 2023-10-26  False   True  False            2         2           2\n248 2023-10-27  False   True  False            2         2           2\n249 2023-10-30  False   True  False            2         2           2\n250 2023-10-31  False   True  False            2         2           2\n\n[251 rows x 7 columns]",
      "text/html": "<div>\n<style scoped>\n    .dataframe tbody tr th:only-of-type {\n        vertical-align: middle;\n    }\n\n    .dataframe tbody tr th {\n        vertical-align: top;\n    }\n\n    .dataframe thead th {\n        text-align: right;\n    }\n</style>\n<table border=\"1\" class=\"dataframe\">\n  <thead>\n    <tr style=\"text-align: right;\">\n      <th></th>\n      <th>date</th>\n      <th>homeX</th>\n      <th>CB</th>\n      <th>Dojo</th>\n      <th>homeX_group</th>\n      <th>CB_group</th>\n      <th>Dojo_group</th>\n    </tr>\n  </thead>\n  <tbody>\n    <tr>\n      <th>0</th>\n      <td>2022-11-01</td>\n      <td>True</td>\n      <td>False</td>\n      <td>True</td>\n      <td>1</td>\n      <td>1</td>\n      <td>1</td>\n    </tr>\n    <tr>\n      <th>1</th>\n      <td>2022-11-02</td>\n      <td>True</td>\n      <td>False</td>\n      <td>True</td>\n      <td>1</td>\n      <td>1</td>\n      <td>1</td>\n    </tr>\n    <tr>\n      <th>2</th>\n      <td>2022-11-03</td>\n      <td>True</td>\n      <td>False</td>\n      <td>True</td>\n      <td>1</td>\n      <td>1</td>\n      <td>1</td>\n    </tr>\n    <tr>\n      <th>3</th>\n      <td>2022-11-04</td>\n      <td>True</td>\n      <td>False</td>\n      <td>True</td>\n      <td>1</td>\n      <td>1</td>\n      <td>1</td>\n    </tr>\n    <tr>\n      <th>4</th>\n      <td>2022-11-07</td>\n      <td>True</td>\n      <td>False</td>\n      <td>True</td>\n      <td>1</td>\n      <td>1</td>\n      <td>1</td>\n    </tr>\n    <tr>\n      <th>...</th>\n      <td>...</td>\n      <td>...</td>\n      <td>...</td>\n      <td>...</td>\n      <td>...</td>\n      <td>...</td>\n      <td>...</td>\n    </tr>\n    <tr>\n      <th>246</th>\n      <td>2023-10-25</td>\n      <td>False</td>\n      <td>True</td>\n      <td>False</td>\n      <td>2</td>\n      <td>2</td>\n      <td>2</td>\n    </tr>\n    <tr>\n      <th>247</th>\n      <td>2023-10-26</td>\n      <td>False</td>\n      <td>True</td>\n      <td>False</td>\n      <td>2</td>\n      <td>2</td>\n      <td>2</td>\n    </tr>\n    <tr>\n      <th>248</th>\n      <td>2023-10-27</td>\n      <td>False</td>\n      <td>True</td>\n      <td>False</td>\n      <td>2</td>\n      <td>2</td>\n      <td>2</td>\n    </tr>\n    <tr>\n      <th>249</th>\n      <td>2023-10-30</td>\n      <td>False</td>\n      <td>True</td>\n      <td>False</td>\n      <td>2</td>\n      <td>2</td>\n      <td>2</td>\n    </tr>\n    <tr>\n      <th>250</th>\n      <td>2023-10-31</td>\n      <td>False</td>\n      <td>True</td>\n      <td>False</td>\n      <td>2</td>\n      <td>2</td>\n      <td>2</td>\n    </tr>\n  </tbody>\n</table>\n<p>251 rows × 7 columns</p>\n</div>"
     },
     "execution_count": 9,
     "metadata": {},
     "output_type": "execute_result"
    }
   ],
   "source": [
    "for a in practice.support_areas:\n",
    "    df[f\"{a.code}_group\"] = (df[a.code].diff() != 0).cumsum()\n",
    "df"
   ]
  },
  {
   "cell_type": "code",
   "execution_count": 10,
   "metadata": {
    "ExecuteTime": {
     "end_time": "2023-08-01T16:24:23.444893Z",
     "start_time": "2023-08-01T16:24:23.442738Z"
    }
   },
   "outputs": [
    {
     "name": "stdout",
     "output_type": "stream",
     "text": [
      "\n",
      "homeX is Unstaffed\n",
      "\n",
      "----------  ----------\n",
      "2023-10-02  2023-10-31\n",
      "----------  ----------\n",
      "\n",
      "CB is Unstaffed\n",
      "\n",
      "----------  ----------\n",
      "2022-11-01  2023-04-28\n",
      "----------  ----------\n",
      "\n",
      "Dojo is Unstaffed\n",
      "\n",
      "----------  ----------\n",
      "2023-10-02  2023-10-31\n",
      "----------  ----------\n"
     ]
    }
   ],
   "source": [
    "from tabulate import tabulate\n",
    "\n",
    "lines = []\n",
    "for a in practice.support_areas:\n",
    "    unstaffed = df[df[a.code] == False]\n",
    "    report = unstaffed.groupby(f\"{a.code}_group\")['date'].agg(['min', 'max'])\n",
    "    report = report.reset_index(drop=True)\n",
    "    if report.count()[0] > 0:\n",
    "        lines.append(\"\")\n",
    "        lines.append(f\"{a.code} is Unstaffed\")\n",
    "        lines.append(\"\")\n",
    "        report['min'] = report['min'].dt.strftime('%Y-%m-%d')\n",
    "        report['max'] = report['max'].dt.strftime('%Y-%m-%d')\n",
    "        report.columns = ['Start Date', 'End Date']\n",
    "        lines.append(tabulate(report, showindex=False))\n",
    "print(\"\\n\".join(lines))"
   ]
  },
  {
   "cell_type": "code",
   "execution_count": null,
   "metadata": {},
   "outputs": [],
   "source": []
  }
 ],
 "metadata": {
  "kernelspec": {
   "display_name": "Python 3",
   "language": "python",
   "name": "python3"
  },
  "language_info": {
   "codemirror_mode": {
    "name": "ipython",
    "version": 2
   },
   "file_extension": ".py",
   "mimetype": "text/x-python",
   "name": "python",
   "nbconvert_exporter": "python",
   "pygments_lexer": "ipython2",
   "version": "2.7.6"
  }
 },
 "nbformat": 4,
 "nbformat_minor": 0
}
