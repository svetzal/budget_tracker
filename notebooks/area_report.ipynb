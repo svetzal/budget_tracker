{
 "cells": [
  {
   "cell_type": "code",
   "execution_count": null,
   "metadata": {},
   "outputs": [],
   "source": [
    "import pandas as pd\n",
    "%matplotlib inline\n",
    "\n",
    "from entities import CoachingPracticeFinance, ExpenseLineItem, HoursLineItem\n",
    "\n",
    "practice = CoachingPracticeFinance.load(\"../practice.json\")"
   ]
  },
  {
   "cell_type": "code",
   "execution_count": null,
   "metadata": {},
   "outputs": [],
   "source": [
    "period_start = pd.to_datetime(\"2022-11-01\")\n",
    "period_end = pd.to_datetime(\"2023-10-31\")\n",
    "\n",
    "report_dates = pd.bdate_range(period_start, period_end, freq=\"C\", holidays=practice.statutory_holiday_list)\n",
    "\n",
    "rows = []\n",
    "for date in report_dates:\n",
    "    for aa in practice.area_assignments:\n",
    "        assignment_start = pd.to_datetime(aa.start_date)\n",
    "        assignment_end = pd.to_datetime(aa.end_date)\n",
    "        if assignment_start <= date <= assignment_end:\n",
    "            for a in practice.support_areas:\n",
    "                if aa.support_area_code == a.code:\n",
    "                    for p in practice.contractors:\n",
    "                        if p.code == aa.person_code:\n",
    "                            for ta in practice.transaction_agreements:\n",
    "                                ta_start = pd.to_datetime(ta.start_date)\n",
    "                                ta_end = pd.to_datetime(ta.end_date)\n",
    "                                ta_days = len(pd.bdate_range(ta_start, ta_end, freq=\"C\", holidays=practice.statutory_holiday_list))\n",
    "                                if ta.contractor_code == p.code and ta_start <= date <= ta_end:\n",
    "                                    rows.append([\n",
    "                                        date, a.code, aa.level, p.name, float(ta.rate.root) * ta.hours / ta_days\n",
    "                                    ])\n",
    "                    for p in practice.employees:\n",
    "                        if p.code == aa.person_code:\n",
    "                            rows.append([\n",
    "                                date, a.code, aa.level, p.name, 15300*12 / len(report_dates)\n",
    "                            ])\n",
    "assignments = pd.DataFrame(rows, columns=[\"date\", \"area_code\", \"level\", \"person_name\", \"daily_rate\"])\n",
    "assignments['year'] = assignments.date.dt.year\n",
    "assignments['month'] = assignments.date.dt.month\n",
    "assignments.rename(columns={'daily_rate': 'budget_amount'}, inplace=True)\n",
    "assignments"
   ]
  },
  {
   "cell_type": "code",
   "execution_count": null,
   "metadata": {},
   "outputs": [],
   "source": [
    "#assignments[assignments['level'] == 'program']\\\n",
    "assignments\\\n",
    "    .groupby(['year', 'month', 'area_code', 'level'])\\\n",
    "    .agg({'budget_amount': 'sum', 'date': 'first'})\\\n",
    "    .reset_index()[['date', 'area_code', 'level', 'budget_amount']]\\\n",
    "    .set_index('date')"
   ]
  },
  {
   "cell_type": "code",
   "execution_count": null,
   "metadata": {},
   "outputs": [],
   "source": [
    "rows = []\n",
    "for c in practice.consultancies:\n",
    "    for i in c.invoices:\n",
    "        for l in i.line_items:\n",
    "            tag = l.model_dump()['tag']\n",
    "            if tag == \"Hours\":\n",
    "                dates = pd.bdate_range(l.period_start, l.period_end, freq=\"C\", holidays=practice.statutory_holiday_list)\n",
    "                for date in dates:\n",
    "                    person = None\n",
    "                    ass = []\n",
    "                    for p in practice.contractors:\n",
    "                        if p.code == l.contractor_code:\n",
    "                            for aa in practice.area_assignments:\n",
    "                                if aa.person_code == p.code:\n",
    "                                    person = p\n",
    "                                    ass.append(aa)\n",
    "                    if person is None:\n",
    "                        raise Exception(f\"No person found for contractor code {c.contractor_code}\")\n",
    "                    if len(ass) == 0:\n",
    "                        raise Exception(f\"No assignments found for contractor code {c.contractor_code} on {date}\")\n",
    "                    # Divide the hours evenly across the assignments\n",
    "                    for aa in ass:\n",
    "                        rows.append([\n",
    "                            date, aa.support_area_code, aa.level, person.name, float(l.amount.root) / len(dates) / len(ass)\n",
    "                        ])\n",
    "            elif tag == \"Expense\":\n",
    "                person = None\n",
    "                ass = []\n",
    "                for p in practice.contractors:\n",
    "                    if p.code == l.contractor_code:\n",
    "                        for aa in practice.area_assignments:\n",
    "                            if aa.person_code == p.code:\n",
    "                                person = p\n",
    "                                ass.append(aa)\n",
    "                if person is None:\n",
    "                    raise Exception(f\"No person found for contractor code {c.contractor_code}\")\n",
    "                if len(ass) == 0:\n",
    "                    raise Exception(f\"No assignments found for contractor code {c.contractor_code} on {date}\")\n",
    "                # Divide the expense evenly across the assignments\n",
    "                for aa in ass:\n",
    "                    # what if i.issue_date is not a working day? gets lost\n",
    "                    issue_date = pd.to_datetime(i.issue_date)\n",
    "                    next_business_day = pd.bdate_range(issue_date, issue_date+pd.Timedelta(days=5), freq=\"C\", holidays=practice.statutory_holiday_list)[0]\n",
    "                    rows.append([\n",
    "                        next_business_day, aa.support_area_code, aa.level, person.name, float(l.amount.root) / len(ass)\n",
    "                    ])\n",
    "invoiced_amounts = pd.DataFrame(rows, columns=[\"date\", \"area_code\", \"level\", \"person_name\", \"invoiced_amount\"])\n",
    "invoiced_amounts"
   ]
  },
  {
   "cell_type": "code",
   "execution_count": null,
   "metadata": {},
   "outputs": [],
   "source": [
    "assignments.merge(invoiced_amounts, on=[\"date\", \"area_code\", \"level\", \"person_name\"], how=\"left\")\\\n",
    "    .groupby(['year', 'month', 'area_code', 'level'])\\\n",
    "    .agg({'budget_amount': 'sum', 'invoiced_amount': 'sum', 'date': 'first'})\\\n",
    "    .reset_index()[['date', 'area_code', 'level', 'budget_amount', 'invoiced_amount']]\\\n",
    "    .set_index('date')"
   ]
  },
  {
   "cell_type": "code",
   "execution_count": null,
   "metadata": {},
   "outputs": [],
   "source": [
    "assignments.merge(invoiced_amounts, on=[\"date\", \"area_code\", \"level\", \"person_name\"], how=\"left\")\\\n",
    "    .groupby(['year', 'month', 'area_code', 'level', 'person_name'])\\\n",
    "    .agg({'budget_amount': 'sum', 'invoiced_amount': 'sum', 'date': 'first'})\\\n",
    "    .reset_index()[['date', 'area_code', 'level', 'person_name', 'budget_amount', 'invoiced_amount']]\\\n",
    "    .set_index('date')"
   ]
  },
  {
   "cell_type": "code",
   "execution_count": null,
   "metadata": {},
   "outputs": [],
   "source": [
    "rows = []\n",
    "employee_daily_rate = 15300*12/len(report_dates)\n",
    "for date in report_dates:\n",
    "    if date < pd.Timestamp.today().normalize():\n",
    "        for e in practice.employees:\n",
    "            ass = []\n",
    "            for aa in practice.area_assignments:\n",
    "                start_date = pd.to_datetime(aa.start_date)\n",
    "                end_date = pd.to_datetime(aa.end_date)\n",
    "                if start_date <= date <= end_date and aa.person_code == e.code:\n",
    "                    ass.append(aa)\n",
    "            for aa in ass:\n",
    "                rows.append([\n",
    "                    date, aa.support_area_code, aa.level, e.name, employee_daily_rate/len(ass)\n",
    "                ])\n",
    "employee_amounts = pd.DataFrame(rows, columns=[\"date\", \"area_code\", \"level\", \"person_name\", \"fte_amount\"])\n",
    "employee_amounts"
   ]
  },
  {
   "cell_type": "code",
   "execution_count": null,
   "metadata": {},
   "outputs": [],
   "source": [
    "assignments.merge(invoiced_amounts, on=[\"date\", \"area_code\", \"level\", \"person_name\"], how=\"left\")\\\n",
    "    .merge(employee_amounts, on=[\"date\", \"area_code\", \"level\", \"person_name\"], how=\"left\")\\\n",
    "    .groupby(['year', 'month', 'area_code', 'level', 'person_name'])\\\n",
    "    .agg({'budget_amount': 'sum', 'invoiced_amount': 'sum', 'fte_amount': 'sum', 'date': 'first'})\\\n",
    "    .reset_index()[['date', 'area_code', 'level', 'person_name', 'budget_amount', 'fte_amount', 'invoiced_amount']]\\\n",
    "    .set_index('date')"
   ]
  },
  {
   "cell_type": "code",
   "execution_count": null,
   "metadata": {},
   "outputs": [],
   "source": [
    "assignments.merge(invoiced_amounts, on=[\"date\", \"area_code\", \"level\", \"person_name\"], how=\"left\")\\\n",
    "    .merge(employee_amounts, on=[\"date\", \"area_code\", \"level\", \"person_name\"], how=\"left\")\\\n",
    "    .groupby(['year', 'month', 'area_code', 'level'])\\\n",
    "    .agg({'budget_amount': 'sum', 'invoiced_amount': 'sum', 'fte_amount': 'sum', 'date': 'first'})\\\n",
    "    .reset_index()[['date', 'area_code', 'level', 'budget_amount', 'fte_amount', 'invoiced_amount']]\\\n",
    "    .set_index('date')"
   ]
  },
  {
   "cell_type": "code",
   "execution_count": null,
   "metadata": {},
   "outputs": [],
   "source": []
  }
 ],
 "metadata": {
  "kernelspec": {
   "display_name": "Python 3",
   "language": "python",
   "name": "python3"
  },
  "language_info": {
   "codemirror_mode": {
    "name": "ipython",
    "version": 2
   },
   "file_extension": ".py",
   "mimetype": "text/x-python",
   "name": "python",
   "nbconvert_exporter": "python",
   "pygments_lexer": "ipython2",
   "version": "2.7.6"
  }
 },
 "nbformat": 4,
 "nbformat_minor": 0
}
