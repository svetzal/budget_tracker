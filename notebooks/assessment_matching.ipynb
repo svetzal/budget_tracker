{
 "cells": [
  {
   "cell_type": "code",
   "execution_count": null,
   "metadata": {
    "ExecuteTime": {
     "end_time": "2023-07-30T11:23:11.556274Z",
     "start_time": "2023-07-30T11:23:11.301680Z"
    }
   },
   "outputs": [],
   "source": [
    "from entities import CoachingPracticeFinance\n",
    "import pandas as pd\n",
    "import numpy as np\n",
    "\n",
    "practice = CoachingPracticeFinance.load(\"../practice.json\")"
   ]
  },
  {
   "cell_type": "code",
   "execution_count": null,
   "metadata": {
    "ExecuteTime": {
     "end_time": "2023-07-30T11:23:15.367466Z",
     "start_time": "2023-07-30T11:23:15.360336Z"
    }
   },
   "outputs": [],
   "source": [
    "bias = []\n",
    "for c in practice.contractors:\n",
    "    la = c.assessments[-1]\n",
    "    if la is not None:\n",
    "        bias.append([c.name, la.leadership, la.technical, la.practice])\n",
    "df = pd.DataFrame(bias, columns=[\"name\", \"leadership\", \"technical\", \"practice\"])\n",
    "df"
   ]
  },
  {
   "cell_type": "code",
   "execution_count": null,
   "metadata": {
    "ExecuteTime": {
     "end_time": "2023-07-30T11:23:18.591604Z",
     "start_time": "2023-07-30T11:23:18.589325Z"
    }
   },
   "outputs": [],
   "source": [
    "q = pd.DataFrame(0, columns=[\"leadership\", \"technical\", \"practice\"], index=df.index)\n",
    "q['leadership'] = 1.0\n",
    "q['technical'] = 0.5\n",
    "q['practice'] = 0.5\n",
    "q"
   ]
  },
  {
   "cell_type": "code",
   "execution_count": null,
   "metadata": {
    "ExecuteTime": {
     "end_time": "2023-07-30T11:23:51.623051Z",
     "start_time": "2023-07-30T11:23:51.618456Z"
    }
   },
   "outputs": [],
   "source": [
    "df['distance'] = np.linalg.norm(df[['leadership', 'technical', 'practice']] - q, axis=1)\n",
    "df"
   ]
  },
  {
   "cell_type": "code",
   "execution_count": null,
   "metadata": {
    "ExecuteTime": {
     "end_time": "2023-07-30T11:23:53.807282Z",
     "start_time": "2023-07-30T11:23:53.803238Z"
    }
   },
   "outputs": [],
   "source": [
    "sorted = df.sort_values(by=['distance'])\n",
    "sorted"
   ]
  },
  {
   "cell_type": "code",
   "execution_count": null,
   "metadata": {},
   "outputs": [],
   "source": []
  }
 ],
 "metadata": {
  "kernelspec": {
   "display_name": "Python 3",
   "language": "python",
   "name": "python3"
  },
  "language_info": {
   "codemirror_mode": {
    "name": "ipython",
    "version": 2
   },
   "file_extension": ".py",
   "mimetype": "text/x-python",
   "name": "python",
   "nbconvert_exporter": "python",
   "pygments_lexer": "ipython2",
   "version": "2.7.6"
  }
 },
 "nbformat": 4,
 "nbformat_minor": 0
}
